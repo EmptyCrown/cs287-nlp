{
 "cells": [
  {
   "cell_type": "code",
   "execution_count": 1,
   "metadata": {
    "collapsed": true
   },
   "outputs": [],
   "source": [
    "import torchtext\n",
    "from torchtext.vocab import Vectors, GloVe\n",
    "import torch\n",
    "import torch.autograd as autograd\n",
    "import torch.nn as nn\n",
    "import torch.nn.functional as F\n",
    "import torch.optim as optim\n",
    "import numpy as np\n",
    "from submission.models import *\n",
    "from submission.helpers import *\n",
    "from evaluation import *"
   ]
  },
  {
   "cell_type": "code",
   "execution_count": 2,
   "metadata": {
    "collapsed": true
   },
   "outputs": [],
   "source": [
    "# Our input $x$\n",
    "TEXT = torchtext.data.Field()\n",
    "    \n",
    "# Our labels $y$\n",
    "LABEL = torchtext.data.Field(sequential=False)\n",
    "\n",
    "\n",
    "train, val, test = torchtext.datasets.SST.splits(\n",
    "    TEXT, LABEL,\n",
    "    filter_pred=lambda ex: ex.label != 'neutral')\n",
    "\n",
    "# Build vocab\n",
    "TEXT.build_vocab(train)\n",
    "LABEL.build_vocab(train)\n",
    "\n",
    "train_iter, val_iter, test_iter = torchtext.data.BucketIterator.splits(\n",
    "(train, val, test), batch_size=11, device=-1)\n",
    "\n",
    "# Build the vocabulary with word embeddings\n",
    "url = 'https://s3-us-west-1.amazonaws.com/fasttext-vectors/wiki.simple.vec'\n",
    "TEXT.vocab.load_vectors(vectors=Vectors('wiki.simple.vec', url=url))"
   ]
  },
  {
   "cell_type": "markdown",
   "metadata": {},
   "source": [
    "# Multinomial NB"
   ]
  },
  {
   "cell_type": "code",
   "execution_count": 79,
   "metadata": {
    "collapsed": true
   },
   "outputs": [],
   "source": [
    "class MultinomialNB(nn.Module):\n",
    "    def __init__(self, TEXT, LABEL):\n",
    "        super(MultinomialNB, self).__init__()\n",
    "        self._TEXT = TEXT\n",
    "        self._LABEL = LABEL\n",
    "        self._text_vocab_len = len(self._TEXT.vocab)        \n",
    "        self.n_positive = 0\n",
    "        self.n_negative = 0\n",
    "        # Smoothing para is 1 for all features\n",
    "        self.p = torch.ones(self._text_vocab_len)\n",
    "        self.q = torch.ones(self._text_vocab_len)\n",
    "        self.r = None\n",
    "        self.index_pos = LABEL.vocab.itos.index('positive')\n",
    "        self.index_neg = LABEL.vocab.itos.index('negative')\n",
    "\n",
    "    # could use EmbeddingsBag, but there's not a huge difference in\n",
    "    # performance\n",
    "    def get_features(self, batch):\n",
    "        size_batch = batch.size()[0]\n",
    "        features = torch.zeros(size_batch, self._text_vocab_len)\n",
    "        for i in range(size_batch):\n",
    "            for j in batch[i, :]:\n",
    "                features[i, j.data[0]] += 1\n",
    "        return features\n",
    "        # return torch.Tensor(features)\n",
    "\n",
    "    def train(self, train_iter):\n",
    "        # There's probably a better way to do this\n",
    "        num_iter = len(train_iter)\n",
    "        train_iter = iter(train_iter)\n",
    "        for i in range(num_iter):\n",
    "            batch = next(train_iter)\n",
    "            if i % 100 == 0:\n",
    "                print(i)\n",
    "            # Should be [N, num-features]\n",
    "            features = self.get_features(torch.t(batch.text).contiguous())\n",
    "\n",
    "            # Using broadcasting\n",
    "            inds_pos = torch.nonzero(batch.label.data == self.index_pos)\n",
    "            inds_neg = torch.nonzero(batch.label.data == self.index_neg)\n",
    "\n",
    "\n",
    "            if inds_pos.size():\n",
    "                self.n_positive += inds_pos.size()[0]\n",
    "                self.p = torch.add(self.p, torch.sum(features[inds_pos, :], dim=0))                \n",
    "            if inds_neg.size():\n",
    "                self.n_negative += inds_neg.size()[0]\n",
    "                self.q = torch.add(self.q, torch.sum(features[inds_neg, :], dim=0))\n",
    "\n",
    "            # print(features)\n",
    "            # print(inds_neg, inds_pos)\n",
    "            # print(self.p.size(), torch.sum(features, dim=0).size())\n",
    "\n",
    "        self.r = torch.log((self.p / self.p.sum()) / (self.q / self.q.sum()))\n",
    "        \n",
    "    def forward(self, batch):\n",
    "        # for k in range(batch_text.size()[1]):\n",
    "        features = self.get_features(batch)\n",
    "        # Using broadcasting\n",
    "        return torch.matmul(features, torch.squeeze(self.r)) + \\\n",
    "            np.log(self.n_positive / self.n_negative)"
   ]
  },
  {
   "cell_type": "code",
   "execution_count": 80,
   "metadata": {},
   "outputs": [
    {
     "name": "stdout",
     "output_type": "stream",
     "text": [
      "0\n",
      "100\n",
      "200\n",
      "300\n",
      "400\n",
      "500\n",
      "600\n"
     ]
    }
   ],
   "source": [
    "mnb = MultinomialNB(TEXT, LABEL)\n",
    "mnb.train(train_iter)"
   ]
  },
  {
   "cell_type": "code",
   "execution_count": 81,
   "metadata": {},
   "outputs": [
    {
     "name": "stdout",
     "output_type": "stream",
     "text": [
      "Iteration 0, predictions: [1, 2, 2, 2, 2, 2, 1, 1, 1, 1, 1]\n",
      "Iteration 100, predictions: [2, 1, 2, 2, 1, 2, 1, 2, 2, 1, 2]\n",
      "Accuracy: 1501 1821 0.8242723778143877\n"
     ]
    }
   ],
   "source": [
    "evaluator = TextEvaluator(mnb)\n",
    "evaluator.score(test_iter)"
   ]
  },
  {
   "cell_type": "markdown",
   "metadata": {},
   "source": [
    "# Log Reg"
   ]
  },
  {
   "cell_type": "code",
   "execution_count": 86,
   "metadata": {},
   "outputs": [
    {
     "name": "stdout",
     "output_type": "stream",
     "text": [
      "Iteration 0, loss: 1.098945\n",
      "Iteration 100, loss: 0.701653\n",
      "Iteration 200, loss: 0.722097\n",
      "Iteration 300, loss: 0.489957\n",
      "Iteration 400, loss: 0.523434\n",
      "Iteration 500, loss: 0.583470\n",
      "Iteration 600, loss: 0.558396\n",
      "Iteration 700, loss: 0.655203\n",
      "Iteration 800, loss: 0.791233\n",
      "Iteration 900, loss: 0.366011\n"
     ]
    },
    {
     "data": {
      "image/png": "[encoded data removed]",
      "text/plain": [
       "<matplotlib.figure.Figure at 0x10d570a58>"
      ]
     },
     "metadata": {},
     "output_type": "display_data"
    }
   ],
   "source": [
    "lr = LogisticRegression(TEXT, LABEL)\n",
    "trainer = TextTrainer(TEXT, LABEL, lr)\n",
    "trainer.train(train_iter)"
   ]
  },
  {
   "cell_type": "code",
   "execution_count": 87,
   "metadata": {},
   "outputs": [
    {
     "name": "stdout",
     "output_type": "stream",
     "text": [
      "Iteration 0, predictions: [2, 2, 2, 2, 2, 2, 1, 2, 2, 2, 2]\n",
      "Iteration 100, predictions: [2, 1, 2, 2, 1, 2, 2, 2, 2, 1, 2]\n",
      "Accuracy: 1308 1821 0.7182866556836903\n"
     ]
    }
   ],
   "source": [
    "evaluator = TextEvaluator(lr)\n",
    "evaluator.score(test_iter)"
   ]
  },
  {
   "cell_type": "markdown",
   "metadata": {},
   "source": [
    "# CBOW"
   ]
  },
  {
   "cell_type": "code",
   "execution_count": 26,
   "metadata": {},
   "outputs": [
    {
     "name": "stdout",
     "output_type": "stream",
     "text": [
      "Iteration 0, loss: 1.648201\n",
      "Iteration 100, loss: 1.621424\n",
      "Iteration 200, loss: 0.922567\n",
      "Iteration 300, loss: 1.007872\n",
      "Iteration 400, loss: 0.570381\n",
      "Iteration 500, loss: 0.767750\n",
      "Iteration 600, loss: 0.304812\n",
      "Iteration 700, loss: 0.182766\n",
      "Iteration 800, loss: 0.766858\n",
      "Iteration 900, loss: 0.604174\n"
     ]
    },
    {
     "data": {
      "image/png": "[encoded data removed]",
      "text/plain": [
       "<matplotlib.figure.Figure at 0x112d8efd0>"
      ]
     },
     "metadata": {},
     "output_type": "display_data"
    }
   ],
   "source": [
    "cbow = CBOW(TEXT, LABEL)\n",
    "trainer = TextTrainer(TEXT, LABEL, cbow)\n",
    "trainer.train(train_iter)"
   ]
  },
  {
   "cell_type": "code",
   "execution_count": 28,
   "metadata": {},
   "outputs": [
    {
     "name": "stdout",
     "output_type": "stream",
     "text": [
      "Iteration 0, predictions: [2, 2, 2, 2, 2, 2, 1, 1, 2, 2, 2]\n",
      "Iteration 100, predictions: [2, 1, 2, 2, 1, 2, 2, 2, 2, 1, 2]\n",
      "Accuracy: 1392 1821 0.7644151565074135\n"
     ]
    }
   ],
   "source": [
    "evaluator = TextEvaluator(cbow)\n",
    "evaluator.score(test_iter)"
   ]
  },
  {
   "cell_type": "markdown",
   "metadata": {},
   "source": [
    "# CNN"
   ]
  },
  {
   "cell_type": "code",
   "execution_count": 9,
   "metadata": {
    "collapsed": true
   },
   "outputs": [],
   "source": [
    "class CNN(nn.Module):\n",
    "    def __init__(self, TEXT, LABEL):\n",
    "        super(CNN, self).__init__()\n",
    "        \n",
    "        N = TEXT.vocab.vectors.size()[0]\n",
    "        D = TEXT.vocab.vectors.size()[1]\n",
    "        C = len(LABEL.vocab)\n",
    "        in_channels = 1\n",
    "        out_channels = 100\n",
    "        kernel_sizes = [2,3] \n",
    "        \n",
    "        self.embeddings = nn.Embedding(N, D)\n",
    "        self.embeddings.weight = nn.Parameter(TEXT.vocab.vectors, requires_grad=True)\n",
    "        \n",
    "        # Linear layer\n",
    "        self.linear = nn.Linear(TEXT.vocab.vectors.size()[1], len(LABEL.vocab))\n",
    "\n",
    "        # List of convolutional layers\n",
    "        self.convs1 = nn.ModuleList([nn.Conv2d(in_channels, out_channels, (K, D)) for K in kernel_sizes])\n",
    "\n",
    "        self.dropout = nn.Dropout(0.5)\n",
    "        self.fc1 = nn.Linear(len(kernel_sizes)*out_channels, C)\n",
    "\n",
    "    def conv_and_pool(self, x, conv):\n",
    "        x = F.relu(conv(x)).squeeze(3)  # (N, out_channels, W)\n",
    "        x = F.max_pool1d(x, x.size(2)).squeeze(2)\n",
    "        return x\n",
    "\n",
    "    def forward(self, x):\n",
    "        x = self.embeddings(x)  # (N, W, D)\n",
    "\n",
    "        x = x.unsqueeze(1)  # (N, in_channels, W, D)\n",
    "        x = [F.relu(conv(x)).squeeze(3) for conv in self.convs1]  # [(N, out_channels, W), ...]*len(kernel_sizes)\n",
    "        x = [F.max_pool1d(i, i.size(2)).squeeze(2) for i in x]  # [(N, out_channels), ...]*len(kernel_sizes)\n",
    "        x = torch.cat(x, 1)\n",
    "\n",
    "        x = self.dropout(x)  # (N, len(Ks)*Co)\n",
    "        logit = F.log_softmax(self.fc1(x), dim=1)  # (N, C)\n",
    "        return logit"
   ]
  },
  {
   "cell_type": "code",
   "execution_count": 5,
   "metadata": {
    "collapsed": true
   },
   "outputs": [],
   "source": [
    "class CNN(nn.Module):\n",
    "    def __init__(self, TEXT, LABEL):\n",
    "        super(CNN, self).__init__()\n",
    "        \n",
    "        N = TEXT.vocab.vectors.size()[0]\n",
    "        D = TEXT.vocab.vectors.size()[1]\n",
    "        C = len(LABEL.vocab)\n",
    "        in_channels = 1\n",
    "        out_channels = 100\n",
    "        kernel_sizes = [2, 3, 4] \n",
    "        \n",
    "        self.embeddings = nn.Embedding(N, D)\n",
    "        self.embeddings.weight = nn.Parameter(TEXT.vocab.vectors, requires_grad=True)\n",
    "        \n",
    "        # List of convolutional layers\n",
    "        self.convs1 = nn.ModuleList([nn.Conv2d(in_channels,\n",
    "                                               out_channels,\n",
    "                                               (K, D),\n",
    "                                               padding=(K-1, 0)) \\\n",
    "                                     for K in kernel_sizes])\n",
    "\n",
    "        self.dropout = nn.Dropout(0.5)\n",
    "        self.fc1 = nn.Linear(len(kernel_sizes)*out_channels, C)\n",
    "\n",
    "    def conv_and_pool(self, x, conv):\n",
    "        x = F.relu(conv(x)).squeeze(3)  # (N, out_channels, W)\n",
    "        x = F.max_pool1d(x, x.size(2)).squeeze(2)\n",
    "        return x\n",
    "\n",
    "    def forward(self, x):\n",
    "        x = self.embeddings(x)  # (N, W, D)\n",
    "\n",
    "        x = x.unsqueeze(1)  # (N, in_channels, W, D)\n",
    "        x = [F.relu(conv(x)).squeeze(3) for conv in self.convs1]  # [(N, out_channels, W)]*len(kernel_sizes)\n",
    "        x = [F.max_pool1d(i, i.size(2)).squeeze(2) for i in x]  # [(N, out_channels)]*len(kernel_sizes)\n",
    "        x = torch.cat(x, 1)\n",
    "\n",
    "        x = self.dropout(x)  # (N, len(kernet_sizes)*out_channels)\n",
    "        logit = F.log_softmax(self.fc1(x), dim=1)  # (N, C)\n",
    "        return logit\n"
   ]
  },
  {
   "cell_type": "code",
   "execution_count": 27,
   "metadata": {},
   "outputs": [
    {
     "name": "stdout",
     "output_type": "stream",
     "text": [
      "Iteration 0, loss: 1.229332\n",
      "Iteration 100, loss: 0.617510\n",
      "Iteration 200, loss: 0.556812\n",
      "Iteration 300, loss: 0.412947\n",
      "Iteration 400, loss: 0.494644\n",
      "Iteration 500, loss: 0.472536\n",
      "Iteration 600, loss: 0.479378\n",
      "Iteration 700, loss: 0.110078\n",
      "Iteration 800, loss: 0.166225\n",
      "Iteration 900, loss: 0.361878\n",
      "Iteration 1000, loss: 0.178175\n",
      "Iteration 1100, loss: 0.367419\n",
      "Iteration 1200, loss: 0.050419\n",
      "Iteration 1300, loss: 0.544632\n",
      "Iteration 1400, loss: 0.117423\n",
      "Iteration 1500, loss: 0.165703\n",
      "Iteration 1600, loss: 0.469320\n",
      "Iteration 1700, loss: 0.082971\n",
      "Iteration 1800, loss: 0.265977\n",
      "Iteration 1900, loss: 0.163921\n",
      "Iteration 2000, loss: 0.547286\n",
      "Iteration 2100, loss: 0.952152\n",
      "Iteration 2200, loss: 0.091068\n",
      "Iteration 2300, loss: 0.488376\n",
      "Iteration 2400, loss: 0.281847\n"
     ]
    },
    {
     "data": {
      "image/png": "[encoded data removed]",
      "text/plain": [
       "<matplotlib.figure.Figure at 0x112e05f28>"
      ]
     },
     "metadata": {},
     "output_type": "display_data"
    }
   ],
   "source": [
    "cnn = CNN(TEXT, LABEL)\n",
    "trainer = TextTrainer(TEXT, LABEL, cnn)\n",
    "trainer.train(train_iter, num_iter=2500)"
   ]
  },
  {
   "cell_type": "code",
   "execution_count": 29,
   "metadata": {},
   "outputs": [
    {
     "name": "stdout",
     "output_type": "stream",
     "text": [
      "Iteration 0, predictions: [2, 2, 2, 2, 2, 2, 1, 1, 2, 2, 2]\n",
      "Iteration 100, predictions: [2, 2, 1, 2, 2, 2, 1, 2, 2, 1, 2]\n",
      "Accuracy: 1449 1821 0.7957166392092258\n"
     ]
    }
   ],
   "source": [
    "evaluator = TextEvaluator(cnn)\n",
    "evaluator.score(test_iter)"
   ]
  },
  {
   "cell_type": "code",
   "execution_count": 88,
   "metadata": {},
   "outputs": [],
   "source": [
    "class Ensemble(nn.Module):\n",
    "    def __init__(self, TEST, LABEL):\n",
    "        super(Ensemble, self).__init__()\n",
    "        \n",
    "        num_models = 2\n",
    "        C = len(LABEL.vocab)\n",
    "        self.linear = nn.Linear(num_models, C)\n",
    "\n",
    "    def get_classes(self, probs, model):\n",
    "        if len(probs.size()) == 1 or (len(probs.size()) == 2 \\\n",
    "                                      and probs.size()[1] == 1):\n",
    "            signs = torch.sign(probs).type(torch.LongTensor)\n",
    "            classes = (signs + 1) * (model.index_pos - model.index_neg) / 2 + \\\n",
    "                      model.index_neg\n",
    "            # print(classes, probs)\n",
    "        else:\n",
    "            _, argmax = probs.max(1)\n",
    "            classes = argmax.data\n",
    "        return classes.view(1,len(classes))\n",
    "\n",
    "    def forward(self, x):\n",
    "        y1 = self.get_classes(mnb(x), mnb)\n",
    "        y2 = self.get_classes(cnn(x), cnn)\n",
    "        y3 = self.get_classes(lr(x), lr)\n",
    "        y4 = self.get_classes(cbow(x), cbow)\n",
    "        \n",
    "        y = torch.t(torch.cat((y1, y2)).float())\n",
    "\n",
    "        logit = F.log_softmax(self.linear(autograd.Variable(y)), dim=1)  # (N, C)\n",
    "        return logit\n"
   ]
  },
  {
   "cell_type": "code",
   "execution_count": 89,
   "metadata": {},
   "outputs": [
    {
     "name": "stdout",
     "output_type": "stream",
     "text": [
      "Iteration 0, loss: 1.505540\n",
      "Iteration 100, loss: 0.440472\n",
      "Iteration 200, loss: 0.377348\n",
      "Iteration 300, loss: 0.494561\n",
      "Iteration 400, loss: 0.222336\n",
      "Iteration 500, loss: 0.237212\n",
      "Iteration 600, loss: 0.114122\n",
      "Iteration 700, loss: 0.217128\n",
      "Iteration 800, loss: 0.199956\n",
      "Iteration 900, loss: 0.138437\n",
      "Iteration 1000, loss: 0.073769\n",
      "Iteration 1100, loss: 0.139576\n",
      "Iteration 1200, loss: 0.118639\n",
      "Iteration 1300, loss: 0.416430\n",
      "Iteration 1400, loss: 0.118021\n",
      "Iteration 1500, loss: 0.324109\n",
      "Iteration 1600, loss: 0.051151\n",
      "Iteration 1700, loss: 0.044518\n",
      "Iteration 1800, loss: 0.151355\n",
      "Iteration 1900, loss: 0.043212\n"
     ]
    },
    {
     "data": {
      "image/png": "[encoded data removed]",
      "text/plain": [
       "<matplotlib.figure.Figure at 0x112cb1cc0>"
      ]
     },
     "metadata": {},
     "output_type": "display_data"
    }
   ],
   "source": [
    "ensemble = Ensemble(TEXT, LABEL)\n",
    "trainer = TextTrainer(TEXT, LABEL, ensemble)\n",
    "trainer.train(train_iter, num_iter=2000)"
   ]
  },
  {
   "cell_type": "code",
   "execution_count": 90,
   "metadata": {},
   "outputs": [
    {
     "name": "stdout",
     "output_type": "stream",
     "text": [
      "Iteration 0, predictions: [1, 2, 2, 2, 2, 2, 1, 1, 1, 1, 1]\n",
      "Iteration 100, predictions: [2, 1, 2, 2, 1, 2, 1, 2, 2, 1, 2]\n",
      "Accuracy: 1501 1821 0.8242723778143877\n"
     ]
    }
   ],
   "source": [
    "evaluator = TextEvaluator(ensemble)\n",
    "evaluator.score(test_iter)"
   ]
  },
  {
   "cell_type": "code",
   "execution_count": null,
   "metadata": {
    "collapsed": true
   },
   "outputs": [],
   "source": []
  }
 ],
 "metadata": {
  "kernelspec": {
   "display_name": "Python 3",
   "language": "python",
   "name": "python3"
  },
  "language_info": {
   "codemirror_mode": {
    "name": "ipython",
    "version": 3
   },
   "file_extension": ".py",
   "mimetype": "text/x-python",
   "name": "python",
   "nbconvert_exporter": "python",
   "pygments_lexer": "ipython3",
   "version": "3.6.2"
  }
 },
 "nbformat": 4,
 "nbformat_minor": 2
}
