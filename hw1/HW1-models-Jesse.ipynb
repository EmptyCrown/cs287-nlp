{
 "cells": [
  {
   "cell_type": "code",
   "execution_count": 1,
   "metadata": {},
   "outputs": [],
   "source": [
    "import torchtext\n",
    "from torchtext.vocab import Vectors, GloVe\n",
    "import torch\n",
    "import torch.autograd as autograd\n",
    "import torch.nn as nn\n",
    "import torch.nn.functional as F\n",
    "import torch.optim as optim\n",
    "import numpy as np\n",
    "from submission.models import *\n",
    "from submission.helpers import *\n",
    "from evaluation import *"
   ]
  },
  {
   "cell_type": "code",
   "execution_count": 2,
   "metadata": {},
   "outputs": [],
   "source": [
    "# Our input $x$\n",
    "TEXT = torchtext.data.Field()\n",
    "    \n",
    "# Our labels $y$\n",
    "LABEL = torchtext.data.Field(sequential=False)\n",
    "\n",
    "\n",
    "train, val, test = torchtext.datasets.SST.splits(\n",
    "    TEXT, LABEL,\n",
    "    filter_pred=lambda ex: ex.label != 'neutral')\n",
    "\n",
    "# Build vocab\n",
    "TEXT.build_vocab(train)\n",
    "LABEL.build_vocab(train)\n",
    "\n",
    "train_iter, val_iter, test_iter = torchtext.data.BucketIterator.splits(\n",
    "(train, val, test), batch_size=11, device=-1)\n",
    "\n",
    "# Build the vocabulary with word embeddings\n",
    "url = 'https://s3-us-west-1.amazonaws.com/fasttext-vectors/wiki.simple.vec'\n",
    "TEXT.vocab.load_vectors(vectors=Vectors('wiki.simple.vec', url=url))"
   ]
  },
  {
   "cell_type": "code",
   "execution_count": 3,
   "metadata": {
    "collapsed": true
   },
   "outputs": [],
   "source": [
    "class MultinomialNB(nn.Module):\n",
    "    def __init__(self, TEXT, LABEL):\n",
    "        super(MultinomialNB, self).__init__()\n",
    "        self._TEXT = TEXT\n",
    "        self._LABEL = LABEL\n",
    "        self._text_vocab_len = len(self._TEXT.vocab)        \n",
    "        self.n_positive = 0\n",
    "        self.n_negative = 0\n",
    "        # Smoothing para is 1 for all features\n",
    "        self.p = torch.ones(self._text_vocab_len)\n",
    "        self.q = torch.ones(self._text_vocab_len)\n",
    "        self.r = None\n",
    "        self.index_pos = LABEL.vocab.itos.index('positive')\n",
    "        self.index_neg = LABEL.vocab.itos.index('negative')\n",
    "\n",
    "    # could use EmbeddingsBag, but there's not a huge difference in\n",
    "    # performance\n",
    "    def get_features(self, batch):\n",
    "        size_batch = batch.size()[0]\n",
    "        features = torch.zeros(size_batch, self._text_vocab_len)\n",
    "        for i in range(size_batch):\n",
    "            for j in batch[i, :]:\n",
    "                features[i, j.data[0]] += 1\n",
    "        return features\n",
    "        # return torch.Tensor(features)\n",
    "\n",
    "    def train(self, train_iter):\n",
    "        # There's probably a better way to do this\n",
    "        num_iter = len(train_iter)\n",
    "        train_iter = iter(train_iter)\n",
    "        for i in range(num_iter):\n",
    "            batch = next(train_iter)\n",
    "            if i % 100 == 0:\n",
    "                print(i)\n",
    "            # Should be [N, num-features]\n",
    "            features = self.get_features(torch.t(batch.text).contiguous())\n",
    "\n",
    "            # Using broadcasting\n",
    "            inds_pos = torch.nonzero(batch.label.data == self.index_pos)\n",
    "            inds_neg = torch.nonzero(batch.label.data == self.index_neg)\n",
    "\n",
    "\n",
    "            if inds_pos.size():\n",
    "                self.n_positive += inds_pos.size()[0]\n",
    "                self.p = torch.add(self.p, torch.sum(features[inds_pos, :], dim=0))                \n",
    "            if inds_neg.size():\n",
    "                self.n_negative += inds_neg.size()[0]\n",
    "                self.q = torch.add(self.q, torch.sum(features[inds_neg, :], dim=0))\n",
    "\n",
    "            # print(features)\n",
    "            # print(inds_neg, inds_pos)\n",
    "            # print(self.p.size(), torch.sum(features, dim=0).size())\n",
    "\n",
    "        self.r = torch.log((self.p / self.p.sum()) / (self.q / self.q.sum()))\n",
    "        \n",
    "    def forward(self, batch):\n",
    "        # for k in range(batch_text.size()[1]):\n",
    "        features = self.get_features(batch)\n",
    "        # Using broadcasting\n",
    "        return torch.matmul(features, torch.squeeze(self.r)) + \\\n",
    "            np.log(self.n_positive / self.n_negative)"
   ]
  },
  {
   "cell_type": "code",
   "execution_count": 4,
   "metadata": {},
   "outputs": [
    {
     "name": "stdout",
     "output_type": "stream",
     "text": [
      "0\n",
      "100\n",
      "200\n",
      "300\n",
      "400\n",
      "500\n",
      "600\n"
     ]
    }
   ],
   "source": [
    "model = MultinomialNB(TEXT, LABEL)\n",
    "model.train(train_iter)"
   ]
  },
  {
   "cell_type": "code",
   "execution_count": 29,
   "metadata": {},
   "outputs": [
    {
     "name": "stdout",
     "output_type": "stream",
     "text": [
      "Iteration 0, loss: 1.098328\n",
      "Iteration 100, loss: 0.684586\n",
      "Iteration 200, loss: 0.503818\n",
      "Iteration 300, loss: 0.568563\n",
      "Iteration 400, loss: 0.538313\n",
      "Iteration 500, loss: 0.661135\n",
      "Iteration 600, loss: 0.661425\n",
      "Iteration 700, loss: 0.456147\n",
      "Iteration 800, loss: 0.585208\n",
      "Iteration 900, loss: 0.517305\n"
     ]
    },
    {
     "data": {
      "image/png": "[encoded data removed]",
      "text/plain": [
       "<matplotlib.figure.Figure at 0x11a41b080>"
      ]
     },
     "metadata": {},
     "output_type": "display_data"
    }
   ],
   "source": [
    "model = LogisticRegression(TEXT, LABEL)\n",
    "trainer = TextTrainer(TEXT, LABEL, model)\n",
    "trainer.train(train_iter)"
   ]
  },
  {
   "cell_type": "code",
   "execution_count": 7,
   "metadata": {
    "collapsed": true
   },
   "outputs": [],
   "source": [
    "class TextEvaluator(object):\n",
    "    def __init__(self, model):\n",
    "        self._predictions = []\n",
    "        self._model = model\n",
    "\n",
    "    def score(self, test_iter, predictions_file=\"\"):\n",
    "        correct = 0\n",
    "        total = 0\n",
    "        for i,batch in enumerate(test_iter):\n",
    "            # Get predictions\n",
    "            probs = self._model(torch.t(batch.text).contiguous())\n",
    "            if len(probs.size()) == 1 or (len(probs.size()) == 2 \\\n",
    "                                          and probs.size()[1] == 1):\n",
    "                signs = torch.sign(probs).type(torch.LongTensor)\n",
    "                classes = (signs + 1) * (self._model.index_pos - self._model.index_neg) / 2 + \\\n",
    "                          self._model.index_neg\n",
    "                # print(classes, probs)\n",
    "            else:\n",
    "                _, argmax = probs.max(1)\n",
    "                classes = argmax.data\n",
    "            if i % 100 == 0:\n",
    "                print('Iteration %d, predictions:' % (i), list(classes))\n",
    "            self._predictions += list(classes)\n",
    "\n",
    "            correct += (classes == batch.label.data).sum()\n",
    "            total += len(batch.label.data)\n",
    "\n",
    "        print(\"Accuracy:\", correct, total, correct/total)\n",
    "        if predictions_file:\n",
    "            with open(predictions_file, \"w\") as f:\n",
    "                f.write(\"Id,Cat\\n\")\n",
    "                for index,p in enumerate(self._predictions):\n",
    "                    f.write(str(index) + \",\" + str(p) + \"\\n\")\n",
    "\n",
    "            "
   ]
  },
  {
   "cell_type": "code",
   "execution_count": 8,
   "metadata": {},
   "outputs": [
    {
     "name": "stdout",
     "output_type": "stream",
     "text": [
      "Iteration 0, predictions: [1, 2, 2, 2, 2, 2, 1, 1, 1, 1, 1]\n",
      "Iteration 100, predictions: [2, 1, 2, 2, 1, 2, 1, 2, 2, 1, 2]\n",
      "Accuracy: 1500 1821 0.8237232289950577\n"
     ]
    },
    {
     "name": "stderr",
     "output_type": "stream",
     "text": [
      "//anaconda/envs/py36/lib/python3.6/site-packages/ipykernel_launcher.py:9: DeprecationWarning: generator 'Iterator.__iter__' raised StopIteration\n",
      "  if __name__ == '__main__':\n"
     ]
    }
   ],
   "source": [
    "evaluator = TextEvaluator(model)\n",
    "evaluator.score(test_iter)"
   ]
  },
  {
   "cell_type": "code",
   "execution_count": 54,
   "metadata": {
    "collapsed": true
   },
   "outputs": [],
   "source": [
    "class TextTrainer(object):\n",
    "    def __init__(self, TEXT, LABEL, model):\n",
    "        # NLLLoss works with labels, not 1-hot encoding\n",
    "        self._loss_fn = nn.NLLLoss()\n",
    "        self._optimizer = optim.SGD(filter(lambda p : p.requires_grad,\n",
    "                                           model.parameters()), lr=0.1)\n",
    "        self._TEXT = TEXT\n",
    "        self._LABEL = LABEL\n",
    "        self._text_vocab_len = len(self._TEXT.vocab)\n",
    "        self._model = model\n",
    "        \n",
    "        # For review and assessment\n",
    "        self._training_losses = []\n",
    "\n",
    "    # TODO: this is horribly slow, can use nn.EmbeddingsBag and put\n",
    "    # this in LogisticRegression class!\n",
    "    def get_feature(self, batch):\n",
    "        # Need transpose so that batch size is first dimension; need\n",
    "        # contiguous because of the transpose\n",
    "        return torch.t(batch.text.data).contiguous()\n",
    "        # size_batch = batch.text.size()[1]\n",
    "        # features = torch.zeros(size_batch, self._text_vocab_len)\n",
    "        # for i in range(size_batch):\n",
    "        #     for j in batch.text[:, i]:\n",
    "        #         features[i, j.data[0]] += 1\n",
    "        # return features\n",
    "    \n",
    "    def get_label(self, batch):\n",
    "        return batch.label.data\n",
    "    \n",
    "    def make_loss(self, batch):\n",
    "        bow = autograd.Variable(self.get_feature(batch))\n",
    "        label = autograd.Variable(self.get_label(batch))\n",
    "        loss = F.cross_entropy(self._model(bow), label)\n",
    "        return loss\n",
    "    \n",
    "    def train(self, train_iter, num_iter=1000, skip_iter=100, plot=True):\n",
    "        for i in range(num_iter):\n",
    "            batch = next(iter(train_iter))\n",
    "            self._model.zero_grad()\n",
    "            loss = self.make_loss(batch)\n",
    "            \n",
    "            loss_val = loss.data.numpy()[0] \n",
    "            self._training_losses.append(loss_val)\n",
    "            if i % skip_iter == 0:\n",
    "                print('Iteration %d, loss: %f' % (i, loss_val))\n",
    "            loss.backward()\n",
    "            self._optimizer.step()\n",
    "        if plot:\n",
    "            plt.plot(np.arange(len(self._training_losses)), self._training_losses)\n",
    "            plt.title(\"Training loss over time\")\n",
    "            plt.show()\n"
   ]
  },
  {
   "cell_type": "code",
   "execution_count": 55,
   "metadata": {
    "collapsed": true
   },
   "outputs": [],
   "source": [
    "class CNN(nn.Module):\n",
    "    def __init__(self, TEXT, LABEL):\n",
    "        super(CNN, self).__init__()\n",
    "        \n",
    "        N = TEXT.vocab.vectors.size()[0]\n",
    "        D = TEXT.vocab.vectors.size()[1]\n",
    "        print(D)\n",
    "        C = len(LABEL.vocab)\n",
    "        in_channels = 1\n",
    "        out_channels = 100 #args.kernel_num\n",
    "        kernel_sizes = [2,3] #args.kernel_sizes\n",
    "        \n",
    "        self.embeddings = nn.Embedding(N, D)\n",
    "        self.embeddings.weight = nn.Parameter(TEXT.vocab.vectors, requires_grad=True)\n",
    "        \n",
    "        # Linear layer\n",
    "        self.linear = nn.Linear(TEXT.vocab.vectors.size()[1], len(LABEL.vocab))\n",
    "\n",
    "        self.embed = nn.Embedding(N, D)\n",
    "        # self.convs1 = [nn.Conv2d(in_channels, out_channels, (K, D)) for K in Ks]\n",
    "        self.convs1 = nn.ModuleList([nn.Conv2d(in_channels, out_channels, (K, D)) for K in kernel_sizes])\n",
    "        '''\n",
    "        self.conv13 = nn.Conv2d(Ci, Co, (3, D))\n",
    "        self.conv14 = nn.Conv2d(Ci, Co, (4, D))\n",
    "        self.conv15 = nn.Conv2d(Ci, Co, (5, D))\n",
    "        '''\n",
    "        self.dropout = nn.Dropout(0.5)\n",
    "        self.fc1 = nn.Linear(len(kernel_sizes)*out_channels, C)\n",
    "\n",
    "    def conv_and_pool(self, x, conv):\n",
    "        x = F.relu(conv(x)).squeeze(3)  # (N, Co, W)\n",
    "        x = F.max_pool1d(x, x.size(2)).squeeze(2)\n",
    "        return x\n",
    "\n",
    "    def forward(self, x):\n",
    "        x = self.embeddings(x)  # (N, W, D)\n",
    "#         if self.args.static:\n",
    "#             x = Variable(x)\n",
    "\n",
    "        x = x.unsqueeze(1)  # (N, in_channels, W, D)\n",
    "    \n",
    "        x = [F.relu(conv(x)).squeeze(3) for conv in self.convs1]  # [(N, Co, W), ...]*len(Ks)\n",
    "\n",
    "        x = [F.max_pool1d(i, i.size(2)).squeeze(2) for i in x]  # [(N, Co), ...]*len(Ks)\n",
    "\n",
    "        x = torch.cat(x, 1)\n",
    "\n",
    "        '''\n",
    "        x1 = self.conv_and_pool(x,self.conv13) #(N,Co)\n",
    "        x2 = self.conv_and_pool(x,self.conv14) #(N,Co)\n",
    "        x3 = self.conv_and_pool(x,self.conv15) #(N,Co)\n",
    "        x = torch.cat((x1, x2, x3), 1) # (N,len(Ks)*Co)\n",
    "        '''\n",
    "        x = self.dropout(x)  # (N, len(Ks)*Co)\n",
    "        logit = F.log_softmax(self.fc1(x), dim=1)  # (N, C)\n",
    "        return logit"
   ]
  },
  {
   "cell_type": "code",
   "execution_count": 56,
   "metadata": {},
   "outputs": [
    {
     "name": "stdout",
     "output_type": "stream",
     "text": [
      "300\n",
      "Iteration 0, loss: 1.110333\n",
      "Iteration 100, loss: 0.769454\n",
      "Iteration 200, loss: 0.769596\n",
      "Iteration 300, loss: 0.691201\n",
      "Iteration 400, loss: 0.714860\n",
      "Iteration 500, loss: 0.702560\n",
      "Iteration 600, loss: 0.702381\n",
      "Iteration 700, loss: 0.707905\n",
      "Iteration 800, loss: 0.699417\n",
      "Iteration 900, loss: 0.709446\n"
     ]
    },
    {
     "data": {
      "image/png": "[encoded data removed]",
      "text/plain": [
       "<matplotlib.figure.Figure at 0x119b8b5c0>"
      ]
     },
     "metadata": {},
     "output_type": "display_data"
    }
   ],
   "source": [
    "model = CNN(TEXT, LABEL)\n",
    "trainer = TextTrainer(TEXT, LABEL, model)\n",
    "trainer.train(train_iter)"
   ]
  },
  {
   "cell_type": "code",
   "execution_count": 57,
   "metadata": {},
   "outputs": [
    {
     "name": "stdout",
     "output_type": "stream",
     "text": [
      "Iteration 0, predictions: [1, 1, 1, 1, 1, 1, 1, 1, 1, 1, 1]\n",
      "Iteration 100, predictions: [1, 1, 1, 1, 1, 1, 1, 1, 1, 1, 1]\n",
      "Accuracy: 909 1821 0.49917627677100496\n"
     ]
    },
    {
     "name": "stderr",
     "output_type": "stream",
     "text": [
      "//anaconda/envs/py36/lib/python3.6/site-packages/ipykernel_launcher.py:9: DeprecationWarning: generator 'Iterator.__iter__' raised StopIteration\n",
      "  if __name__ == '__main__':\n"
     ]
    }
   ],
   "source": [
    "evaluator = TextEvaluator(model)\n",
    "evaluator.score(test_iter)"
   ]
  },
  {
   "cell_type": "code",
   "execution_count": null,
   "metadata": {
    "collapsed": true
   },
   "outputs": [],
   "source": []
  }
 ],
 "metadata": {
  "kernelspec": {
   "display_name": "Python 3",
   "language": "python",
   "name": "python3"
  },
  "language_info": {
   "codemirror_mode": {
    "name": "ipython",
    "version": 3
   },
   "file_extension": ".py",
   "mimetype": "text/x-python",
   "name": "python",
   "nbconvert_exporter": "python",
   "pygments_lexer": "ipython3",
   "version": "3.6.2"
  }
 },
 "nbformat": 4,
 "nbformat_minor": 2
}
