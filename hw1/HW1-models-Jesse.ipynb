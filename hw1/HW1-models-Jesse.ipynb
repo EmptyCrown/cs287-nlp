{
 "cells": [
  {
   "cell_type": "code",
   "execution_count": 1,
   "metadata": {
    "collapsed": true
   },
   "outputs": [],
   "source": [
    "import torchtext\n",
    "from torchtext.vocab import Vectors, GloVe\n",
    "import torch\n",
    "import torch.autograd as autograd\n",
    "import torch.nn as nn\n",
    "import torch.nn.functional as F\n",
    "import torch.optim as optim\n",
    "import numpy as np\n",
    "from submission.models import *\n",
    "from submission.helpers import *\n",
    "from evaluation import *"
   ]
  },
  {
   "cell_type": "code",
   "execution_count": 2,
   "metadata": {
    "collapsed": true
   },
   "outputs": [],
   "source": [
    "# Our input $x$\n",
    "TEXT = torchtext.data.Field()\n",
    "    \n",
    "# Our labels $y$\n",
    "LABEL = torchtext.data.Field(sequential=False)\n",
    "\n",
    "\n",
    "train, val, test = torchtext.datasets.SST.splits(\n",
    "    TEXT, LABEL,\n",
    "    filter_pred=lambda ex: ex.label != 'neutral')\n",
    "\n",
    "# Build vocab\n",
    "TEXT.build_vocab(train)\n",
    "LABEL.build_vocab(train)\n",
    "\n",
    "train_iter, val_iter, test_iter = torchtext.data.BucketIterator.splits(\n",
    "(train, val, test), batch_size=11, device=-1)\n",
    "\n",
    "# Build the vocabulary with word embeddings\n",
    "url = 'https://s3-us-west-1.amazonaws.com/fasttext-vectors/wiki.simple.vec'\n",
    "TEXT.vocab.load_vectors(vectors=Vectors('wiki.simple.vec', url=url))"
   ]
  },
  {
   "cell_type": "markdown",
   "metadata": {},
   "source": [
    "# Multinomial NB"
   ]
  },
  {
   "cell_type": "code",
   "execution_count": 79,
   "metadata": {
    "collapsed": true
   },
   "outputs": [],
   "source": [
    "class MultinomialNB(nn.Module):\n",
    "    def __init__(self, TEXT, LABEL):\n",
    "        super(MultinomialNB, self).__init__()\n",
    "        self._TEXT = TEXT\n",
    "        self._LABEL = LABEL\n",
    "        self._text_vocab_len = len(self._TEXT.vocab)        \n",
    "        self.n_positive = 0\n",
    "        self.n_negative = 0\n",
    "        # Smoothing para is 1 for all features\n",
    "        self.p = torch.ones(self._text_vocab_len)\n",
    "        self.q = torch.ones(self._text_vocab_len)\n",
    "        self.r = None\n",
    "        self.index_pos = LABEL.vocab.itos.index('positive')\n",
    "        self.index_neg = LABEL.vocab.itos.index('negative')\n",
    "\n",
    "    # could use EmbeddingsBag, but there's not a huge difference in\n",
    "    # performance\n",
    "    def get_features(self, batch):\n",
    "        size_batch = batch.size()[0]\n",
    "        features = torch.zeros(size_batch, self._text_vocab_len)\n",
    "        for i in range(size_batch):\n",
    "            for j in batch[i, :]:\n",
    "                features[i, j.data[0]] += 1\n",
    "        return features\n",
    "        # return torch.Tensor(features)\n",
    "\n",
    "    def train(self, train_iter):\n",
    "        # There's probably a better way to do this\n",
    "        num_iter = len(train_iter)\n",
    "        train_iter = iter(train_iter)\n",
    "        for i in range(num_iter):\n",
    "            batch = next(train_iter)\n",
    "            if i % 100 == 0:\n",
    "                print(i)\n",
    "            # Should be [N, num-features]\n",
    "            features = self.get_features(torch.t(batch.text).contiguous())\n",
    "\n",
    "            # Using broadcasting\n",
    "            inds_pos = torch.nonzero(batch.label.data == self.index_pos)\n",
    "            inds_neg = torch.nonzero(batch.label.data == self.index_neg)\n",
    "\n",
    "\n",
    "            if inds_pos.size():\n",
    "                self.n_positive += inds_pos.size()[0]\n",
    "                self.p = torch.add(self.p, torch.sum(features[inds_pos, :], dim=0))                \n",
    "            if inds_neg.size():\n",
    "                self.n_negative += inds_neg.size()[0]\n",
    "                self.q = torch.add(self.q, torch.sum(features[inds_neg, :], dim=0))\n",
    "\n",
    "            # print(features)\n",
    "            # print(inds_neg, inds_pos)\n",
    "            # print(self.p.size(), torch.sum(features, dim=0).size())\n",
    "\n",
    "        self.r = torch.log((self.p / self.p.sum()) / (self.q / self.q.sum()))\n",
    "        \n",
    "    def forward(self, batch):\n",
    "        # for k in range(batch_text.size()[1]):\n",
    "        features = self.get_features(batch)\n",
    "        # Using broadcasting\n",
    "        return torch.matmul(features, torch.squeeze(self.r)) + \\\n",
    "            np.log(self.n_positive / self.n_negative)"
   ]
  },
  {
   "cell_type": "code",
   "execution_count": 80,
   "metadata": {},
   "outputs": [
    {
     "name": "stdout",
     "output_type": "stream",
     "text": [
      "0\n",
      "100\n",
      "200\n",
      "300\n",
      "400\n",
      "500\n",
      "600\n"
     ]
    }
   ],
   "source": [
    "mnb = MultinomialNB(TEXT, LABEL)\n",
    "mnb.train(train_iter)"
   ]
  },
  {
   "cell_type": "code",
   "execution_count": 81,
   "metadata": {},
   "outputs": [
    {
     "name": "stdout",
     "output_type": "stream",
     "text": [
      "Iteration 0, predictions: [1, 2, 2, 2, 2, 2, 1, 1, 1, 1, 1]\n",
      "Iteration 100, predictions: [2, 1, 2, 2, 1, 2, 1, 2, 2, 1, 2]\n",
      "Accuracy: 1501 1821 0.8242723778143877\n"
     ]
    }
   ],
   "source": [
    "evaluator = TextEvaluator(mnb)\n",
    "evaluator.score(test_iter)"
   ]
  },
  {
   "cell_type": "markdown",
   "metadata": {},
   "source": [
    "# Log Reg"
   ]
  },
  {
   "cell_type": "code",
   "execution_count": 86,
   "metadata": {},
   "outputs": [
    {
     "name": "stdout",
     "output_type": "stream",
     "text": [
      "Iteration 0, loss: 1.098945\n",
      "Iteration 100, loss: 0.701653\n",
      "Iteration 200, loss: 0.722097\n",
      "Iteration 300, loss: 0.489957\n",
      "Iteration 400, loss: 0.523434\n",
      "Iteration 500, loss: 0.583470\n",
      "Iteration 600, loss: 0.558396\n",
      "Iteration 700, loss: 0.655203\n",
      "Iteration 800, loss: 0.791233\n",
      "Iteration 900, loss: 0.366011\n"
     ]
    },
    {
     "data": {
      "image/png": "[encoded data removed]",
      "text/plain": [
       "<matplotlib.figure.Figure at 0x10d570a58>"
      ]
     },
     "metadata": {},
     "output_type": "display_data"
    }
   ],
   "source": [
    "lr = LogisticRegression(TEXT, LABEL)\n",
    "trainer = TextTrainer(TEXT, LABEL, lr)\n",
    "trainer.train(train_iter)"
   ]
  },
  {
   "cell_type": "code",
   "execution_count": 87,
   "metadata": {},
   "outputs": [
    {
     "name": "stdout",
     "output_type": "stream",
     "text": [
      "Iteration 0, predictions: [2, 2, 2, 2, 2, 2, 1, 2, 2, 2, 2]\n",
      "Iteration 100, predictions: [2, 1, 2, 2, 1, 2, 2, 2, 2, 1, 2]\n",
      "Accuracy: 1308 1821 0.7182866556836903\n"
     ]
    }
   ],
   "source": [
    "evaluator = TextEvaluator(lr)\n",
    "evaluator.score(test_iter)"
   ]
  },
  {
   "cell_type": "markdown",
   "metadata": {},
   "source": [
    "# CBOW"
   ]
  },
  {
   "cell_type": "code",
   "execution_count": 26,
   "metadata": {},
   "outputs": [
    {
     "name": "stdout",
     "output_type": "stream",
     "text": [
      "Iteration 0, loss: 1.648201\n",
      "Iteration 100, loss: 1.621424\n",
      "Iteration 200, loss: 0.922567\n",
      "Iteration 300, loss: 1.007872\n",
      "Iteration 400, loss: 0.570381\n",
      "Iteration 500, loss: 0.767750\n",
      "Iteration 600, loss: 0.304812\n",
      "Iteration 700, loss: 0.182766\n",
      "Iteration 800, loss: 0.766858\n",
      "Iteration 900, loss: 0.604174\n"
     ]
    },
    {
     "data": {
      "image/png": "[encoded data removed]",
      "text/plain": [
       "<matplotlib.figure.Figure at 0x112d8efd0>"
      ]
     },
     "metadata": {},
     "output_type": "display_data"
    }
   ],
   "source": [
    "cbow = CBOW(TEXT, LABEL)\n",
    "trainer = TextTrainer(TEXT, LABEL, cbow)\n",
    "trainer.train(train_iter)"
   ]
  },
  {
   "cell_type": "code",
   "execution_count": 28,
   "metadata": {},
   "outputs": [
    {
     "name": "stdout",
     "output_type": "stream",
     "text": [
      "Iteration 0, predictions: [2, 2, 2, 2, 2, 2, 1, 1, 2, 2, 2]\n",
      "Iteration 100, predictions: [2, 1, 2, 2, 1, 2, 2, 2, 2, 1, 2]\n",
      "Accuracy: 1392 1821 0.7644151565074135\n"
     ]
    }
   ],
   "source": [
    "evaluator = TextEvaluator(cbow)\n",
    "evaluator.score(test_iter)"
   ]
  },
  {
   "cell_type": "markdown",
   "metadata": {},
   "source": [
    "# CNN"
   ]
  },
  {
   "cell_type": "code",
   "execution_count": 9,
   "metadata": {
    "collapsed": true
   },
   "outputs": [],
   "source": [
    "class CNN(nn.Module):\n",
    "    def __init__(self, TEXT, LABEL):\n",
    "        super(CNN, self).__init__()\n",
    "        \n",
    "        N = TEXT.vocab.vectors.size()[0]\n",
    "        D = TEXT.vocab.vectors.size()[1]\n",
    "        C = len(LABEL.vocab)\n",
    "        in_channels = 1\n",
    "        out_channels = 100\n",
    "        kernel_sizes = [2,3] \n",
    "        \n",
    "        self.embeddings = nn.Embedding(N, D)\n",
    "        self.embeddings.weight = nn.Parameter(TEXT.vocab.vectors, requires_grad=True)\n",
    "        \n",
    "        # Linear layer\n",
    "        self.linear = nn.Linear(TEXT.vocab.vectors.size()[1], len(LABEL.vocab))\n",
    "\n",
    "        # List of convolutional layers\n",
    "        self.convs1 = nn.ModuleList([nn.Conv2d(in_channels, out_channels, (K, D)) for K in kernel_sizes])\n",
    "\n",
    "        self.dropout = nn.Dropout(0.5)\n",
    "        self.fc1 = nn.Linear(len(kernel_sizes)*out_channels, C)\n",
    "\n",
    "    def conv_and_pool(self, x, conv):\n",
    "        x = F.relu(conv(x)).squeeze(3)  # (N, out_channels, W)\n",
    "        x = F.max_pool1d(x, x.size(2)).squeeze(2)\n",
    "        return x\n",
    "\n",
    "    def forward(self, x):\n",
    "        x = self.embeddings(x)  # (N, W, D)\n",
    "\n",
    "        x = x.unsqueeze(1)  # (N, in_channels, W, D)\n",
    "        x = [F.relu(conv(x)).squeeze(3) for conv in self.convs1]  # [(N, out_channels, W), ...]*len(kernel_sizes)\n",
    "        x = [F.max_pool1d(i, i.size(2)).squeeze(2) for i in x]  # [(N, out_channels), ...]*len(kernel_sizes)\n",
    "        x = torch.cat(x, 1)\n",
    "\n",
    "        x = self.dropout(x)  # (N, len(Ks)*Co)\n",
    "        logit = F.log_softmax(self.fc1(x), dim=1)  # (N, C)\n",
    "        return logit"
   ]
  },
  {
   "cell_type": "code",
   "execution_count": 141,
   "metadata": {
    "collapsed": true
   },
   "outputs": [],
   "source": [
    "class CNN(nn.Module):\n",
    "    def __init__(self, TEXT, LABEL):\n",
    "        super(CNN, self).__init__()\n",
    "        \n",
    "        N = TEXT.vocab.vectors.size()[0]\n",
    "        D = TEXT.vocab.vectors.size()[1]\n",
    "        C = 2\n",
    "        in_channels = 1\n",
    "        out_channels = 100\n",
    "        kernel_sizes = [3, 4, 5] \n",
    "        \n",
    "        self.embeddings = nn.Embedding(N, D)\n",
    "        self.embeddings.weight = nn.Parameter(TEXT.vocab.vectors, requires_grad=True)\n",
    "        \n",
    "        # List of convolutional layers\n",
    "        self.convs1 = nn.ModuleList([nn.Conv2d(in_channels,\n",
    "                                               out_channels,\n",
    "                                               (K, D),\n",
    "                                               padding=(K-1, 0)) \\\n",
    "                                     for K in kernel_sizes])\n",
    "\n",
    "        self.dropout = nn.Dropout(0.5)\n",
    "        self.fc1 = nn.Linear(len(kernel_sizes)*out_channels, 2)\n",
    "\n",
    "    def conv_and_pool(self, x, conv):\n",
    "        x = F.relu(conv(x)).squeeze(3)  # (N, out_channels, W)\n",
    "        x = F.max_pool1d(x, x.size(2)).squeeze(2)\n",
    "        return x\n",
    "\n",
    "    def forward(self, x):\n",
    "        x = self.embeddings(x)  # (N, W, D)\n",
    "\n",
    "        x = x.unsqueeze(1)  # (N, in_channels, W, D)\n",
    "        x = [F.relu(conv(x)).squeeze(3) for conv in self.convs1]  # [(N, out_channels, W)]*len(kernel_sizes)\n",
    "        x = [F.max_pool1d(i, i.size(2)).squeeze(2) for i in x]  # [(N, out_channels)]*len(kernel_sizes)\n",
    "        x = torch.cat(x, 1)\n",
    "\n",
    "        x = self.dropout(x)  # (N, len(kernet_sizes)*out_channels)\n",
    "        logit = F.log_softmax(self.fc1(x))  # (N, C)\n",
    "        return logit\n"
   ]
  },
  {
   "cell_type": "code",
   "execution_count": 142,
   "metadata": {
    "collapsed": true
   },
   "outputs": [],
   "source": [
    "class TextTrainerBinary(object):\n",
    "    def __init__(self, TEXT, LABEL, model, optimizer=optim.SGD):\n",
    "        # NLLLoss works with labels, not 1-hot encoding\n",
    "        self._loss_fn = nn.NLLLoss()\n",
    "        self._optimizer = optimizer(filter(lambda p : p.requires_grad,\n",
    "                                           model.parameters()), lr=0.1)\n",
    "        self._TEXT = TEXT\n",
    "        self._LABEL = LABEL\n",
    "        self._text_vocab_len = len(self._TEXT.vocab)\n",
    "        self._model = model\n",
    "        \n",
    "        # For review and assessment\n",
    "        self._training_losses = []\n",
    "\n",
    "    # TODO: this is horribly slow, can use nn.EmbeddingsBag and put\n",
    "    # this in LogisticRegression class!\n",
    "    def get_feature(self, batch):\n",
    "        # Need transpose so that batch size is first dimension; need\n",
    "        # contiguous because of the transpose\n",
    "        return torch.t(batch.text.data).contiguous()\n",
    "        # size_batch = batch.text.size()[1]\n",
    "        # features = torch.zeros(size_batch, self._text_vocab_len)\n",
    "        # for i in range(size_batch):\n",
    "        #     for j in batch.text[:, i]:\n",
    "        #         features[i, j.data[0]] += 1\n",
    "        # return features\n",
    "    \n",
    "    def get_label(self, batch):\n",
    "        labels = batch.label.data - 1\n",
    "        labels[labels < 0] = 0\n",
    "        return labels\n",
    "    \n",
    "    def make_loss(self, batch):\n",
    "        bow = autograd.Variable(self.get_feature(batch))\n",
    "        label = autograd.Variable(self.get_label(batch))\n",
    "        loss = self._loss_fn(self._model(bow), label)\n",
    "        return loss\n",
    "    \n",
    "    def train(self, train_iter, num_iter=1000, skip_iter=100, plot=True):\n",
    "        for i in range(num_iter):\n",
    "            batch = next(iter(train_iter))\n",
    "            self._model.zero_grad()\n",
    "            loss = self.make_loss(batch)\n",
    "            \n",
    "            loss_val = loss.data.numpy()[0] \n",
    "            self._training_losses.append(loss_val)\n",
    "            if i % skip_iter == 0:\n",
    "                print('Iteration %d, loss: %f' % (i, loss_val))\n",
    "            loss.backward()\n",
    "            self._optimizer.step()\n",
    "        if plot:\n",
    "            plt.plot(np.arange(len(self._training_losses)), self._training_losses)\n",
    "            plt.title(\"Training loss over time\")\n",
    "            plt.show()"
   ]
  },
  {
   "cell_type": "code",
   "execution_count": 143,
   "metadata": {},
   "outputs": [
    {
     "name": "stderr",
     "output_type": "stream",
     "text": [
      "//anaconda/envs/py36/lib/python3.6/site-packages/ipykernel_launcher.py:39: UserWarning: Implicit dimension choice for log_softmax has been deprecated. Change the call to include dim=X as an argument.\n"
     ]
    },
    {
     "name": "stdout",
     "output_type": "stream",
     "text": [
      "Iteration 0, loss: 0.730696\n",
      "Iteration 100, loss: 0.553889\n",
      "Iteration 200, loss: 0.308245\n",
      "Iteration 300, loss: 0.560873\n",
      "Iteration 400, loss: 0.184231\n",
      "Iteration 500, loss: 0.110836\n",
      "Iteration 600, loss: 0.325485\n",
      "Iteration 700, loss: 0.331630\n",
      "Iteration 800, loss: 0.101331\n",
      "Iteration 900, loss: 0.102746\n",
      "Iteration 1000, loss: 0.010174\n",
      "Iteration 1100, loss: 0.017415\n",
      "Iteration 1200, loss: 0.017602\n",
      "Iteration 1300, loss: 0.030811\n",
      "Iteration 1400, loss: 0.058454\n"
     ]
    },
    {
     "ename": "KeyboardInterrupt",
     "evalue": "",
     "output_type": "error",
     "traceback": [
      "\u001b[0;31m---------------------------------------------------------------------------\u001b[0m",
      "\u001b[0;31mKeyboardInterrupt\u001b[0m                         Traceback (most recent call last)",
      "\u001b[0;32m<ipython-input-143-42a4863b1840>\u001b[0m in \u001b[0;36m<module>\u001b[0;34m()\u001b[0m\n\u001b[1;32m      1\u001b[0m \u001b[0mcnn\u001b[0m \u001b[0;34m=\u001b[0m \u001b[0mCNN\u001b[0m\u001b[0;34m(\u001b[0m\u001b[0mTEXT\u001b[0m\u001b[0;34m,\u001b[0m \u001b[0mLABEL\u001b[0m\u001b[0;34m)\u001b[0m\u001b[0;34m\u001b[0m\u001b[0m\n\u001b[1;32m      2\u001b[0m \u001b[0mtrainer\u001b[0m \u001b[0;34m=\u001b[0m \u001b[0mTextTrainerBinary\u001b[0m\u001b[0;34m(\u001b[0m\u001b[0mTEXT\u001b[0m\u001b[0;34m,\u001b[0m \u001b[0mLABEL\u001b[0m\u001b[0;34m,\u001b[0m \u001b[0mcnn\u001b[0m\u001b[0;34m)\u001b[0m\u001b[0;34m\u001b[0m\u001b[0m\n\u001b[0;32m----> 3\u001b[0;31m \u001b[0mtrainer\u001b[0m\u001b[0;34m.\u001b[0m\u001b[0mtrain\u001b[0m\u001b[0;34m(\u001b[0m\u001b[0mtrain_iter\u001b[0m\u001b[0;34m,\u001b[0m \u001b[0mnum_iter\u001b[0m\u001b[0;34m=\u001b[0m\u001b[0;36m2500\u001b[0m\u001b[0;34m)\u001b[0m\u001b[0;34m\u001b[0m\u001b[0m\n\u001b[0m",
      "\u001b[0;32m<ipython-input-142-c71f1c734e49>\u001b[0m in \u001b[0;36mtrain\u001b[0;34m(self, train_iter, num_iter, skip_iter, plot)\u001b[0m\n\u001b[1;32m     39\u001b[0m     \u001b[0;32mdef\u001b[0m \u001b[0mtrain\u001b[0m\u001b[0;34m(\u001b[0m\u001b[0mself\u001b[0m\u001b[0;34m,\u001b[0m \u001b[0mtrain_iter\u001b[0m\u001b[0;34m,\u001b[0m \u001b[0mnum_iter\u001b[0m\u001b[0;34m=\u001b[0m\u001b[0;36m1000\u001b[0m\u001b[0;34m,\u001b[0m \u001b[0mskip_iter\u001b[0m\u001b[0;34m=\u001b[0m\u001b[0;36m100\u001b[0m\u001b[0;34m,\u001b[0m \u001b[0mplot\u001b[0m\u001b[0;34m=\u001b[0m\u001b[0;32mTrue\u001b[0m\u001b[0;34m)\u001b[0m\u001b[0;34m:\u001b[0m\u001b[0;34m\u001b[0m\u001b[0m\n\u001b[1;32m     40\u001b[0m         \u001b[0;32mfor\u001b[0m \u001b[0mi\u001b[0m \u001b[0;32min\u001b[0m \u001b[0mrange\u001b[0m\u001b[0;34m(\u001b[0m\u001b[0mnum_iter\u001b[0m\u001b[0;34m)\u001b[0m\u001b[0;34m:\u001b[0m\u001b[0;34m\u001b[0m\u001b[0m\n\u001b[0;32m---> 41\u001b[0;31m             \u001b[0mbatch\u001b[0m \u001b[0;34m=\u001b[0m \u001b[0mnext\u001b[0m\u001b[0;34m(\u001b[0m\u001b[0miter\u001b[0m\u001b[0;34m(\u001b[0m\u001b[0mtrain_iter\u001b[0m\u001b[0;34m)\u001b[0m\u001b[0;34m)\u001b[0m\u001b[0;34m\u001b[0m\u001b[0m\n\u001b[0m\u001b[1;32m     42\u001b[0m             \u001b[0mself\u001b[0m\u001b[0;34m.\u001b[0m\u001b[0m_model\u001b[0m\u001b[0;34m.\u001b[0m\u001b[0mzero_grad\u001b[0m\u001b[0;34m(\u001b[0m\u001b[0;34m)\u001b[0m\u001b[0;34m\u001b[0m\u001b[0m\n\u001b[1;32m     43\u001b[0m             \u001b[0mloss\u001b[0m \u001b[0;34m=\u001b[0m \u001b[0mself\u001b[0m\u001b[0;34m.\u001b[0m\u001b[0mmake_loss\u001b[0m\u001b[0;34m(\u001b[0m\u001b[0mbatch\u001b[0m\u001b[0;34m)\u001b[0m\u001b[0;34m\u001b[0m\u001b[0m\n",
      "\u001b[0;32m//anaconda/envs/py36/lib/python3.6/site-packages/torchtext/data/iterator.py\u001b[0m in \u001b[0;36m__iter__\u001b[0;34m(self)\u001b[0m\n\u001b[1;32m    162\u001b[0m     \u001b[0;32mdef\u001b[0m \u001b[0m__iter__\u001b[0m\u001b[0;34m(\u001b[0m\u001b[0mself\u001b[0m\u001b[0;34m)\u001b[0m\u001b[0;34m:\u001b[0m\u001b[0;34m\u001b[0m\u001b[0m\n\u001b[1;32m    163\u001b[0m         \u001b[0;32mwhile\u001b[0m \u001b[0;32mTrue\u001b[0m\u001b[0;34m:\u001b[0m\u001b[0;34m\u001b[0m\u001b[0m\n\u001b[0;32m--> 164\u001b[0;31m             \u001b[0mself\u001b[0m\u001b[0;34m.\u001b[0m\u001b[0minit_epoch\u001b[0m\u001b[0;34m(\u001b[0m\u001b[0;34m)\u001b[0m\u001b[0;34m\u001b[0m\u001b[0m\n\u001b[0m\u001b[1;32m    165\u001b[0m             \u001b[0;32mfor\u001b[0m \u001b[0midx\u001b[0m\u001b[0;34m,\u001b[0m \u001b[0mminibatch\u001b[0m \u001b[0;32min\u001b[0m \u001b[0menumerate\u001b[0m\u001b[0;34m(\u001b[0m\u001b[0mself\u001b[0m\u001b[0;34m.\u001b[0m\u001b[0mbatches\u001b[0m\u001b[0;34m)\u001b[0m\u001b[0;34m:\u001b[0m\u001b[0;34m\u001b[0m\u001b[0m\n\u001b[1;32m    166\u001b[0m                 \u001b[0;31m# fast-forward if loaded from state\u001b[0m\u001b[0;34m\u001b[0m\u001b[0;34m\u001b[0m\u001b[0m\n",
      "\u001b[0;32m//anaconda/envs/py36/lib/python3.6/site-packages/torchtext/data/iterator.py\u001b[0m in \u001b[0;36minit_epoch\u001b[0;34m(self)\u001b[0m\n\u001b[1;32m    138\u001b[0m             \u001b[0mself\u001b[0m\u001b[0;34m.\u001b[0m\u001b[0m_random_state_this_epoch\u001b[0m \u001b[0;34m=\u001b[0m \u001b[0mself\u001b[0m\u001b[0;34m.\u001b[0m\u001b[0mrandom_shuffler\u001b[0m\u001b[0;34m.\u001b[0m\u001b[0mrandom_state\u001b[0m\u001b[0;34m\u001b[0m\u001b[0m\n\u001b[1;32m    139\u001b[0m \u001b[0;34m\u001b[0m\u001b[0m\n\u001b[0;32m--> 140\u001b[0;31m         \u001b[0mself\u001b[0m\u001b[0;34m.\u001b[0m\u001b[0mcreate_batches\u001b[0m\u001b[0;34m(\u001b[0m\u001b[0;34m)\u001b[0m\u001b[0;34m\u001b[0m\u001b[0m\n\u001b[0m\u001b[1;32m    141\u001b[0m \u001b[0;34m\u001b[0m\u001b[0m\n\u001b[1;32m    142\u001b[0m         \u001b[0;32mif\u001b[0m \u001b[0mself\u001b[0m\u001b[0;34m.\u001b[0m\u001b[0m_restored_from_state\u001b[0m\u001b[0;34m:\u001b[0m\u001b[0;34m\u001b[0m\u001b[0m\n",
      "\u001b[0;32m//anaconda/envs/py36/lib/python3.6/site-packages/torchtext/data/iterator.py\u001b[0m in \u001b[0;36mcreate_batches\u001b[0;34m(self)\u001b[0m\n\u001b[1;32m    264\u001b[0m                                  self.batch_size_fn)\n\u001b[1;32m    265\u001b[0m         \u001b[0;32melse\u001b[0m\u001b[0;34m:\u001b[0m\u001b[0;34m\u001b[0m\u001b[0m\n\u001b[0;32m--> 266\u001b[0;31m             self.batches = pool(self.data(), self.batch_size,\n\u001b[0m\u001b[1;32m    267\u001b[0m                                 \u001b[0mself\u001b[0m\u001b[0;34m.\u001b[0m\u001b[0msort_key\u001b[0m\u001b[0;34m,\u001b[0m \u001b[0mself\u001b[0m\u001b[0;34m.\u001b[0m\u001b[0mbatch_size_fn\u001b[0m\u001b[0;34m,\u001b[0m\u001b[0;34m\u001b[0m\u001b[0m\n\u001b[1;32m    268\u001b[0m                                 random_shuffler=self.random_shuffler)\n",
      "\u001b[0;32m//anaconda/envs/py36/lib/python3.6/site-packages/torchtext/data/iterator.py\u001b[0m in \u001b[0;36mdata\u001b[0;34m(self)\u001b[0m\n\u001b[1;32m    125\u001b[0m             \u001b[0mxs\u001b[0m \u001b[0;34m=\u001b[0m \u001b[0msorted\u001b[0m\u001b[0;34m(\u001b[0m\u001b[0mself\u001b[0m\u001b[0;34m.\u001b[0m\u001b[0mdataset\u001b[0m\u001b[0;34m,\u001b[0m \u001b[0mkey\u001b[0m\u001b[0;34m=\u001b[0m\u001b[0mself\u001b[0m\u001b[0;34m.\u001b[0m\u001b[0msort_key\u001b[0m\u001b[0;34m)\u001b[0m\u001b[0;34m\u001b[0m\u001b[0m\n\u001b[1;32m    126\u001b[0m         \u001b[0;32melif\u001b[0m \u001b[0mself\u001b[0m\u001b[0;34m.\u001b[0m\u001b[0mshuffle\u001b[0m\u001b[0;34m:\u001b[0m\u001b[0;34m\u001b[0m\u001b[0m\n\u001b[0;32m--> 127\u001b[0;31m             \u001b[0mxs\u001b[0m \u001b[0;34m=\u001b[0m \u001b[0;34m[\u001b[0m\u001b[0mself\u001b[0m\u001b[0;34m.\u001b[0m\u001b[0mdataset\u001b[0m\u001b[0;34m[\u001b[0m\u001b[0mi\u001b[0m\u001b[0;34m]\u001b[0m \u001b[0;32mfor\u001b[0m \u001b[0mi\u001b[0m \u001b[0;32min\u001b[0m \u001b[0mself\u001b[0m\u001b[0;34m.\u001b[0m\u001b[0mrandom_shuffler\u001b[0m\u001b[0;34m(\u001b[0m\u001b[0mrange\u001b[0m\u001b[0;34m(\u001b[0m\u001b[0mlen\u001b[0m\u001b[0;34m(\u001b[0m\u001b[0mself\u001b[0m\u001b[0;34m.\u001b[0m\u001b[0mdataset\u001b[0m\u001b[0;34m)\u001b[0m\u001b[0;34m)\u001b[0m\u001b[0;34m)\u001b[0m\u001b[0;34m]\u001b[0m\u001b[0;34m\u001b[0m\u001b[0m\n\u001b[0m\u001b[1;32m    128\u001b[0m         \u001b[0;32melse\u001b[0m\u001b[0;34m:\u001b[0m\u001b[0;34m\u001b[0m\u001b[0m\n\u001b[1;32m    129\u001b[0m             \u001b[0mxs\u001b[0m \u001b[0;34m=\u001b[0m \u001b[0mself\u001b[0m\u001b[0;34m.\u001b[0m\u001b[0mdataset\u001b[0m\u001b[0;34m\u001b[0m\u001b[0m\n",
      "\u001b[0;32m//anaconda/envs/py36/lib/python3.6/site-packages/torchtext/data/iterator.py\u001b[0m in \u001b[0;36m__call__\u001b[0;34m(self, data)\u001b[0m\n\u001b[1;32m     39\u001b[0m         \u001b[0;34m\"\"\"Shuffle and return a new list.\"\"\"\u001b[0m\u001b[0;34m\u001b[0m\u001b[0m\n\u001b[1;32m     40\u001b[0m         \u001b[0;32mwith\u001b[0m \u001b[0mself\u001b[0m\u001b[0;34m.\u001b[0m\u001b[0muse_internal_state\u001b[0m\u001b[0;34m(\u001b[0m\u001b[0;34m)\u001b[0m\u001b[0;34m:\u001b[0m\u001b[0;34m\u001b[0m\u001b[0m\n\u001b[0;32m---> 41\u001b[0;31m             \u001b[0;32mreturn\u001b[0m \u001b[0mrandom\u001b[0m\u001b[0;34m.\u001b[0m\u001b[0msample\u001b[0m\u001b[0;34m(\u001b[0m\u001b[0mdata\u001b[0m\u001b[0;34m,\u001b[0m \u001b[0mlen\u001b[0m\u001b[0;34m(\u001b[0m\u001b[0mdata\u001b[0m\u001b[0;34m)\u001b[0m\u001b[0;34m)\u001b[0m\u001b[0;34m\u001b[0m\u001b[0m\n\u001b[0m\u001b[1;32m     42\u001b[0m \u001b[0;34m\u001b[0m\u001b[0m\n\u001b[1;32m     43\u001b[0m \u001b[0;34m\u001b[0m\u001b[0m\n",
      "\u001b[0;32m//anaconda/envs/py36/lib/python3.6/random.py\u001b[0m in \u001b[0;36msample\u001b[0;34m(self, population, k)\u001b[0m\n\u001b[1;32m    324\u001b[0m             \u001b[0mpool\u001b[0m \u001b[0;34m=\u001b[0m \u001b[0mlist\u001b[0m\u001b[0;34m(\u001b[0m\u001b[0mpopulation\u001b[0m\u001b[0;34m)\u001b[0m\u001b[0;34m\u001b[0m\u001b[0m\n\u001b[1;32m    325\u001b[0m             \u001b[0;32mfor\u001b[0m \u001b[0mi\u001b[0m \u001b[0;32min\u001b[0m \u001b[0mrange\u001b[0m\u001b[0;34m(\u001b[0m\u001b[0mk\u001b[0m\u001b[0;34m)\u001b[0m\u001b[0;34m:\u001b[0m         \u001b[0;31m# invariant:  non-selected at [0,n-i)\u001b[0m\u001b[0;34m\u001b[0m\u001b[0m\n\u001b[0;32m--> 326\u001b[0;31m                 \u001b[0mj\u001b[0m \u001b[0;34m=\u001b[0m \u001b[0mrandbelow\u001b[0m\u001b[0;34m(\u001b[0m\u001b[0mn\u001b[0m\u001b[0;34m-\u001b[0m\u001b[0mi\u001b[0m\u001b[0;34m)\u001b[0m\u001b[0;34m\u001b[0m\u001b[0m\n\u001b[0m\u001b[1;32m    327\u001b[0m                 \u001b[0mresult\u001b[0m\u001b[0;34m[\u001b[0m\u001b[0mi\u001b[0m\u001b[0;34m]\u001b[0m \u001b[0;34m=\u001b[0m \u001b[0mpool\u001b[0m\u001b[0;34m[\u001b[0m\u001b[0mj\u001b[0m\u001b[0;34m]\u001b[0m\u001b[0;34m\u001b[0m\u001b[0m\n\u001b[1;32m    328\u001b[0m                 \u001b[0mpool\u001b[0m\u001b[0;34m[\u001b[0m\u001b[0mj\u001b[0m\u001b[0;34m]\u001b[0m \u001b[0;34m=\u001b[0m \u001b[0mpool\u001b[0m\u001b[0;34m[\u001b[0m\u001b[0mn\u001b[0m\u001b[0;34m-\u001b[0m\u001b[0mi\u001b[0m\u001b[0;34m-\u001b[0m\u001b[0;36m1\u001b[0m\u001b[0;34m]\u001b[0m   \u001b[0;31m# move non-selected item into vacancy\u001b[0m\u001b[0;34m\u001b[0m\u001b[0m\n",
      "\u001b[0;32m//anaconda/envs/py36/lib/python3.6/random.py\u001b[0m in \u001b[0;36m_randbelow\u001b[0;34m(self, n, int, maxsize, type, Method, BuiltinMethod)\u001b[0m\n\u001b[1;32m    229\u001b[0m         \u001b[0;31m# has not been overridden or if a new getrandbits() was supplied.\u001b[0m\u001b[0;34m\u001b[0m\u001b[0;34m\u001b[0m\u001b[0m\n\u001b[1;32m    230\u001b[0m         \u001b[0;32mif\u001b[0m \u001b[0mtype\u001b[0m\u001b[0;34m(\u001b[0m\u001b[0mrandom\u001b[0m\u001b[0;34m)\u001b[0m \u001b[0;32mis\u001b[0m \u001b[0mBuiltinMethod\u001b[0m \u001b[0;32mor\u001b[0m \u001b[0mtype\u001b[0m\u001b[0;34m(\u001b[0m\u001b[0mgetrandbits\u001b[0m\u001b[0;34m)\u001b[0m \u001b[0;32mis\u001b[0m \u001b[0mMethod\u001b[0m\u001b[0;34m:\u001b[0m\u001b[0;34m\u001b[0m\u001b[0m\n\u001b[0;32m--> 231\u001b[0;31m             \u001b[0mk\u001b[0m \u001b[0;34m=\u001b[0m \u001b[0mn\u001b[0m\u001b[0;34m.\u001b[0m\u001b[0mbit_length\u001b[0m\u001b[0;34m(\u001b[0m\u001b[0;34m)\u001b[0m  \u001b[0;31m# don't use (n-1) here because n can be 1\u001b[0m\u001b[0;34m\u001b[0m\u001b[0m\n\u001b[0m\u001b[1;32m    232\u001b[0m             \u001b[0mr\u001b[0m \u001b[0;34m=\u001b[0m \u001b[0mgetrandbits\u001b[0m\u001b[0;34m(\u001b[0m\u001b[0mk\u001b[0m\u001b[0;34m)\u001b[0m          \u001b[0;31m# 0 <= r < 2**k\u001b[0m\u001b[0;34m\u001b[0m\u001b[0m\n\u001b[1;32m    233\u001b[0m             \u001b[0;32mwhile\u001b[0m \u001b[0mr\u001b[0m \u001b[0;34m>=\u001b[0m \u001b[0mn\u001b[0m\u001b[0;34m:\u001b[0m\u001b[0;34m\u001b[0m\u001b[0m\n",
      "\u001b[0;31mKeyboardInterrupt\u001b[0m: "
     ]
    }
   ],
   "source": [
    "cnn = CNN(TEXT, LABEL)\n",
    "trainer = TextTrainerBinary(TEXT, LABEL, cnn)\n",
    "trainer.train(train_iter, num_iter=2500)"
   ]
  },
  {
   "cell_type": "code",
   "execution_count": 119,
   "metadata": {
    "collapsed": true
   },
   "outputs": [],
   "source": [
    "class TextEvaluator(object):\n",
    "    def __init__(self, model):\n",
    "        self._predictions = []\n",
    "        self._model = model\n",
    "        \n",
    "    def get_label(self, batch):\n",
    "        labels = batch.label.data - 1\n",
    "        labels[labels < 0] = 0\n",
    "        return labels\n",
    "\n",
    "    def score(self, test_iter, predictions_file=\"\", mnb=False):\n",
    "        correct = 0\n",
    "        total = 0\n",
    "        for i,batch in enumerate(test_iter):\n",
    "            # Get predictions\n",
    "            probs = self._model(torch.t(batch.text).contiguous())\n",
    "            if mnb:\n",
    "                signs = torch.sign(probs).type(torch.LongTensor)\n",
    "                classes = (signs + 1) * (self._model.index_pos - self._model.index_neg) / 2 + \\\n",
    "                          self._model.index_neg\n",
    "                # print(classes, probs)\n",
    "            else:\n",
    "                _, argmax = probs.max(1)\n",
    "                classes = argmax.data\n",
    "            if i % 100 == 0:\n",
    "                print('Iteration %d, predictions:' % (i), list(classes))\n",
    "            self._predictions += list(classes)\n",
    "\n",
    "            labels = self.get_label(batch)\n",
    "            correct += (classes == labels).sum()\n",
    "            total += len(labels)\n",
    "\n",
    "        print(\"Accuracy:\", correct, total, correct/total)\n",
    "        if predictions_file:\n",
    "            with open(predictions_file, \"w\") as f:\n",
    "                f.write(\"Id,Cat\\n\")\n",
    "                for index,p in enumerate(self._predictions):\n",
    "                    f.write(str(index) + \",\" + str(p) + \"\\n\")"
   ]
  },
  {
   "cell_type": "code",
   "execution_count": 144,
   "metadata": {},
   "outputs": [
    {
     "name": "stderr",
     "output_type": "stream",
     "text": [
      "//anaconda/envs/py36/lib/python3.6/site-packages/ipykernel_launcher.py:39: UserWarning: Implicit dimension choice for log_softmax has been deprecated. Change the call to include dim=X as an argument.\n"
     ]
    },
    {
     "name": "stdout",
     "output_type": "stream",
     "text": [
      "Iteration 0, predictions: [0, 1, 1, 1, 1, 1, 0, 0, 1, 1, 1]\n",
      "Iteration 100, predictions: [1, 0, 1, 1, 1, 1, 0, 1, 1, 0, 1]\n",
      "Accuracy: 1468 1821 0.8061504667764964\n"
     ]
    },
    {
     "name": "stderr",
     "output_type": "stream",
     "text": [
      "//anaconda/envs/py36/lib/python3.6/site-packages/ipykernel_launcher.py:14: DeprecationWarning: generator 'Iterator.__iter__' raised StopIteration\n",
      "  \n"
     ]
    }
   ],
   "source": [
    "evaluator = TextEvaluator(cnn)\n",
    "evaluator.score(test_iter)"
   ]
  },
  {
   "cell_type": "code",
   "execution_count": 145,
   "metadata": {
    "collapsed": true
   },
   "outputs": [],
   "source": [
    "class Ensemble(nn.Module):\n",
    "    def __init__(self, TEST, LABEL):\n",
    "        super(Ensemble, self).__init__()\n",
    "        \n",
    "        num_models = 2\n",
    "        C = len(LABEL.vocab)\n",
    "        self.linear = nn.Linear(num_models, C)\n",
    "\n",
    "    def get_classes(self, probs, model):\n",
    "        if len(probs.size()) == 1 or (len(probs.size()) == 2 \\\n",
    "                                      and probs.size()[1] == 1):\n",
    "            signs = torch.sign(probs).type(torch.LongTensor)\n",
    "            classes = (signs + 1) * (model.index_pos - model.index_neg) / 2 + \\\n",
    "                      model.index_neg\n",
    "            # print(classes, probs)\n",
    "        else:\n",
    "            _, argmax = probs.max(1)\n",
    "            classes = argmax.data\n",
    "        return classes.view(1,len(classes))\n",
    "\n",
    "    def forward(self, x):\n",
    "        y1 = self.get_classes(mnb(x), mnb)\n",
    "        y2 = self.get_classes(cnn(x), cnn)\n",
    "        y3 = self.get_classes(lr(x), lr)\n",
    "        y4 = self.get_classes(cbow(x), cbow)\n",
    "        \n",
    "        y = torch.t(torch.cat((y1, y2)).float())\n",
    "\n",
    "        logit = F.log_softmax(self.linear(autograd.Variable(y)), dim=1)  # (N, C)\n",
    "        return logit\n"
   ]
  },
  {
   "cell_type": "code",
   "execution_count": 148,
   "metadata": {},
   "outputs": [
    {
     "name": "stderr",
     "output_type": "stream",
     "text": [
      "//anaconda/envs/py36/lib/python3.6/site-packages/ipykernel_launcher.py:39: UserWarning: Implicit dimension choice for log_softmax has been deprecated. Change the call to include dim=X as an argument.\n"
     ]
    },
    {
     "name": "stdout",
     "output_type": "stream",
     "text": [
      "Iteration 0, loss: 2.416485\n",
      "Iteration 100, loss: 0.387703\n",
      "Iteration 200, loss: 0.129495\n",
      "Iteration 300, loss: 0.102211\n",
      "Iteration 400, loss: 0.085366\n",
      "Iteration 500, loss: 0.078172\n",
      "Iteration 600, loss: 0.058681\n",
      "Iteration 700, loss: 0.049245\n",
      "Iteration 800, loss: 0.044378\n",
      "Iteration 900, loss: 0.231263\n",
      "Iteration 1000, loss: 0.336776\n",
      "Iteration 1100, loss: 0.038051\n",
      "Iteration 1200, loss: 0.051022\n",
      "Iteration 1300, loss: 0.038274\n",
      "Iteration 1400, loss: 0.028956\n",
      "Iteration 1500, loss: 0.386948\n",
      "Iteration 1600, loss: 0.049786\n",
      "Iteration 1700, loss: 0.037954\n",
      "Iteration 1800, loss: 0.023425\n",
      "Iteration 1900, loss: 0.036654\n"
     ]
    },
    {
     "data": {
      "image/png": "[encoded data removed]",
      "text/plain": [
       "<matplotlib.figure.Figure at 0x1134ee4e0>"
      ]
     },
     "metadata": {},
     "output_type": "display_data"
    }
   ],
   "source": [
    "ensemble = Ensemble(TEXT, LABEL)\n",
    "trainer = TextTrainerBinary(TEXT, LABEL, ensemble)\n",
    "trainer.train(train_iter, num_iter=2000)"
   ]
  },
  {
   "cell_type": "code",
   "execution_count": 150,
   "metadata": {},
   "outputs": [
    {
     "name": "stderr",
     "output_type": "stream",
     "text": [
      "//anaconda/envs/py36/lib/python3.6/site-packages/ipykernel_launcher.py:39: UserWarning: Implicit dimension choice for log_softmax has been deprecated. Change the call to include dim=X as an argument.\n"
     ]
    },
    {
     "name": "stdout",
     "output_type": "stream",
     "text": [
      "Iteration 0, predictions: [0, 1, 1, 1, 1, 1, 0, 0, 1, 1, 1]\n",
      "Iteration 100, predictions: [1, 0, 1, 1, 1, 1, 0, 1, 1, 0, 1]\n",
      "Accuracy: 1454 1821 0.7984623833058759\n"
     ]
    },
    {
     "name": "stderr",
     "output_type": "stream",
     "text": [
      "//anaconda/envs/py36/lib/python3.6/site-packages/ipykernel_launcher.py:14: DeprecationWarning: generator 'Iterator.__iter__' raised StopIteration\n",
      "  \n"
     ]
    }
   ],
   "source": [
    "evaluator = TextEvaluator(ensemble)\n",
    "evaluator.score(test_iter)"
   ]
  },
  {
   "cell_type": "code",
   "execution_count": null,
   "metadata": {
    "collapsed": true
   },
   "outputs": [],
   "source": []
  }
 ],
 "metadata": {
  "kernelspec": {
   "display_name": "Python 3",
   "language": "python",
   "name": "python3"
  },
  "language_info": {
   "codemirror_mode": {
    "name": "ipython",
    "version": 3
   },
   "file_extension": ".py",
   "mimetype": "text/x-python",
   "name": "python",
   "nbconvert_exporter": "python",
   "pygments_lexer": "ipython3",
   "version": "3.5.3"
  }
 },
 "nbformat": 4,
 "nbformat_minor": 2
}
