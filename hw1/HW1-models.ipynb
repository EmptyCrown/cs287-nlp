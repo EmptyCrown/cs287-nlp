{
 "cells": [
  {
   "cell_type": "code",
   "execution_count": 1,
   "metadata": {
    "collapsed": true
   },
   "outputs": [],
   "source": [
    "import torchtext\n",
    "from torchtext.vocab import Vectors, GloVe\n",
    "import torch\n",
    "import torch.autograd as autograd\n",
    "import torch.nn as nn\n",
    "import torch.nn.functional as F\n",
    "import torch.optim as optim\n",
    "import numpy as np\n",
    "from submission.models import *\n",
    "from evaluation import *\n",
    "from submission.helpers import *"
   ]
  },
  {
   "cell_type": "code",
   "execution_count": 2,
   "metadata": {
    "collapsed": true
   },
   "outputs": [],
   "source": [
    "# Our input $x$\n",
    "TEXT = torchtext.data.Field()\n",
    "    \n",
    "# Our labels $y$\n",
    "LABEL = torchtext.data.Field(sequential=False)\n",
    "\n",
    "\n",
    "train, val, test = torchtext.datasets.SST.splits(\n",
    "    TEXT, LABEL,\n",
    "    filter_pred=lambda ex: ex.label != 'neutral')\n",
    "\n",
    "# Build vocab\n",
    "TEXT.build_vocab(train)\n",
    "LABEL.build_vocab(train)\n",
    "\n",
    "train_iter, val_iter, test_iter = torchtext.data.BucketIterator.splits(\n",
    "(train, val, test), batch_size=50, device=-1, repeat=False)\n",
    "\n",
    "# Build the vocabulary with word embeddings\n",
    "url = 'https://s3-us-west-1.amazonaws.com/fasttext-vectors/wiki.simple.vec'\n",
    "TEXT.vocab.load_vectors(vectors=Vectors('wiki.simple.vec', url=url))"
   ]
  },
  {
   "cell_type": "code",
   "execution_count": 3,
   "metadata": {
    "collapsed": false
   },
   "outputs": [
    {
     "ename": "AttributeError",
     "evalue": "'LogisticRegression' object has no attribute 'do_binary'",
     "output_type": "error",
     "traceback": [
      "\u001b[0;31m---------------------------------------------------------------------------\u001b[0m",
      "\u001b[0;31mAttributeError\u001b[0m                            Traceback (most recent call last)",
      "\u001b[0;32m<ipython-input-3-10e1a4b471d5>\u001b[0m in \u001b[0;36m<module>\u001b[0;34m()\u001b[0m\n\u001b[1;32m      1\u001b[0m \u001b[0mmodel_lr\u001b[0m \u001b[0;34m=\u001b[0m \u001b[0mLogisticRegression\u001b[0m\u001b[0;34m(\u001b[0m\u001b[0mTEXT\u001b[0m\u001b[0;34m,\u001b[0m \u001b[0mLABEL\u001b[0m\u001b[0;34m)\u001b[0m\u001b[0;34m\u001b[0m\u001b[0m\n\u001b[0;32m----> 2\u001b[0;31m \u001b[0mtrainer\u001b[0m \u001b[0;34m=\u001b[0m \u001b[0mTextTrainer\u001b[0m\u001b[0;34m(\u001b[0m\u001b[0mTEXT\u001b[0m\u001b[0;34m,\u001b[0m \u001b[0mLABEL\u001b[0m\u001b[0;34m,\u001b[0m \u001b[0mmodel_lr\u001b[0m\u001b[0;34m)\u001b[0m\u001b[0;34m\u001b[0m\u001b[0m\n\u001b[0m\u001b[1;32m      3\u001b[0m \u001b[0mtrainer\u001b[0m\u001b[0;34m.\u001b[0m\u001b[0mtrain\u001b[0m\u001b[0;34m(\u001b[0m\u001b[0mtrain_iter\u001b[0m\u001b[0;34m,\u001b[0m \u001b[0mnum_iter\u001b[0m\u001b[0;34m=\u001b[0m\u001b[0;36m1000\u001b[0m\u001b[0;34m,\u001b[0m \u001b[0mskip_iter\u001b[0m\u001b[0;34m=\u001b[0m\u001b[0;36m100\u001b[0m\u001b[0;34m)\u001b[0m\u001b[0;34m\u001b[0m\u001b[0m\n",
      "\u001b[0;32m/Users/jesse/Documents/cs287-nlp/hw1/submission/helpers.py\u001b[0m in \u001b[0;36m__init__\u001b[0;34m(self, TEXT, LABEL, model, optimizer)\u001b[0m\n\u001b[1;32m     19\u001b[0m         \u001b[0mself\u001b[0m\u001b[0;34m.\u001b[0m\u001b[0m_text_vocab_len\u001b[0m \u001b[0;34m=\u001b[0m \u001b[0mlen\u001b[0m\u001b[0;34m(\u001b[0m\u001b[0mself\u001b[0m\u001b[0;34m.\u001b[0m\u001b[0m_TEXT\u001b[0m\u001b[0;34m.\u001b[0m\u001b[0mvocab\u001b[0m\u001b[0;34m)\u001b[0m\u001b[0;34m\u001b[0m\u001b[0m\n\u001b[1;32m     20\u001b[0m         \u001b[0mself\u001b[0m\u001b[0;34m.\u001b[0m\u001b[0m_model\u001b[0m \u001b[0;34m=\u001b[0m \u001b[0mmodel\u001b[0m\u001b[0;34m\u001b[0m\u001b[0m\n\u001b[0;32m---> 21\u001b[0;31m         \u001b[0mself\u001b[0m\u001b[0;34m.\u001b[0m\u001b[0m_do_binary\u001b[0m \u001b[0;34m=\u001b[0m \u001b[0mmodel\u001b[0m\u001b[0;34m.\u001b[0m\u001b[0mdo_binary\u001b[0m\u001b[0;34m\u001b[0m\u001b[0m\n\u001b[0m\u001b[1;32m     22\u001b[0m         \u001b[0mself\u001b[0m\u001b[0;34m.\u001b[0m\u001b[0m_loss_fn\u001b[0m \u001b[0;34m=\u001b[0m \u001b[0mnn\u001b[0m\u001b[0;34m.\u001b[0m\u001b[0mBCEWithLogitsLoss\u001b[0m\u001b[0;34m(\u001b[0m\u001b[0;34m)\u001b[0m \u001b[0;32mif\u001b[0m \u001b[0mself\u001b[0m\u001b[0;34m.\u001b[0m\u001b[0m_do_binary\u001b[0m\u001b[0;31m \u001b[0m\u001b[0;31m\\\u001b[0m\u001b[0;34m\u001b[0m\u001b[0m\n\u001b[1;32m     23\u001b[0m                         \u001b[0;32melse\u001b[0m \u001b[0mnn\u001b[0m\u001b[0;34m.\u001b[0m\u001b[0mNLLLoss\u001b[0m\u001b[0;34m(\u001b[0m\u001b[0;34m)\u001b[0m\u001b[0;34m\u001b[0m\u001b[0m\n",
      "\u001b[0;32m//anaconda/envs/py36/lib/python3.6/site-packages/torch/nn/modules/module.py\u001b[0m in \u001b[0;36m__getattr__\u001b[0;34m(self, name)\u001b[0m\n\u001b[1;32m    364\u001b[0m                 \u001b[0;32mreturn\u001b[0m \u001b[0mmodules\u001b[0m\u001b[0;34m[\u001b[0m\u001b[0mname\u001b[0m\u001b[0;34m]\u001b[0m\u001b[0;34m\u001b[0m\u001b[0m\n\u001b[1;32m    365\u001b[0m         raise AttributeError(\"'{}' object has no attribute '{}'\".format(\n\u001b[0;32m--> 366\u001b[0;31m             type(self).__name__, name))\n\u001b[0m\u001b[1;32m    367\u001b[0m \u001b[0;34m\u001b[0m\u001b[0m\n\u001b[1;32m    368\u001b[0m     \u001b[0;32mdef\u001b[0m \u001b[0m__setattr__\u001b[0m\u001b[0;34m(\u001b[0m\u001b[0mself\u001b[0m\u001b[0;34m,\u001b[0m \u001b[0mname\u001b[0m\u001b[0;34m,\u001b[0m \u001b[0mvalue\u001b[0m\u001b[0;34m)\u001b[0m\u001b[0;34m:\u001b[0m\u001b[0;34m\u001b[0m\u001b[0m\n",
      "\u001b[0;31mAttributeError\u001b[0m: 'LogisticRegression' object has no attribute 'do_binary'"
     ]
    }
   ],
   "source": [
    "model_lr = LogisticRegression(TEXT, LABEL)\n",
    "trainer = TextTrainer(TEXT, LABEL, model_lr)\n",
    "trainer.train(train_iter, num_iter=1000, skip_iter=100)"
   ]
  },
  {
   "cell_type": "code",
   "execution_count": null,
   "metadata": {
    "collapsed": true
   },
   "outputs": [],
   "source": [
    "model = MultinomialNB(TEXT, LABEL)\n",
    "model.train(train_iter)"
   ]
  },
  {
   "cell_type": "code",
   "execution_count": 22,
   "metadata": {
    "collapsed": false
   },
   "outputs": [
    {
     "data": {
      "text/plain": [
       "(1310, 1821)"
      ]
     },
     "execution_count": 22,
     "metadata": {},
     "output_type": "execute_result"
    }
   ],
   "source": [
    "model_eval(model_lr, test)"
   ]
  },
  {
   "cell_type": "code",
   "execution_count": 4,
   "metadata": {
    "collapsed": false
   },
   "outputs": [
    {
     "name": "stdout",
     "output_type": "stream",
     "text": [
      "Iteration 0, loss: 1.153387\n",
      "Iteration 100, loss: 0.651786\n",
      "Iteration 200, loss: 0.630142\n",
      "Iteration 300, loss: 0.566883\n",
      "Iteration 400, loss: 0.602412\n",
      "Iteration 500, loss: 0.512245\n",
      "Iteration 600, loss: 0.506338\n",
      "Iteration 700, loss: 0.547287\n",
      "Iteration 800, loss: 0.517960\n",
      "Iteration 900, loss: 0.424601\n",
      "Iteration 1000, loss: 0.488346\n",
      "Iteration 1100, loss: 0.404376\n",
      "Iteration 1200, loss: 0.420996\n",
      "Iteration 1300, loss: 0.354671\n",
      "Iteration 1400, loss: 0.367642\n",
      "Iteration 1500, loss: 0.478275\n",
      "Iteration 1600, loss: 0.231360\n",
      "Iteration 1700, loss: 0.275645\n",
      "Iteration 1800, loss: 0.333904\n",
      "Iteration 1900, loss: 0.263724\n",
      "Iteration 2000, loss: 0.316354\n",
      "Iteration 2100, loss: 0.215668\n",
      "Iteration 2200, loss: 0.342192\n",
      "Iteration 2300, loss: 0.214530\n",
      "Iteration 2400, loss: 0.157793\n",
      "Iteration 2500, loss: 0.164580\n",
      "Iteration 2600, loss: 0.155781\n",
      "Iteration 2700, loss: 0.135578\n",
      "Iteration 2800, loss: 0.130342\n",
      "Iteration 2900, loss: 0.166151\n",
      "Iteration 3000, loss: 0.074885\n",
      "Iteration 3100, loss: 0.098157\n",
      "Iteration 3200, loss: 0.081400\n",
      "Iteration 3300, loss: 0.108907\n",
      "Iteration 3400, loss: 0.061542\n",
      "Iteration 3500, loss: 0.124328\n",
      "Iteration 3600, loss: 0.131275\n",
      "Iteration 3700, loss: 0.107753\n",
      "Iteration 3800, loss: 0.076651\n",
      "Iteration 3900, loss: 0.055977\n",
      "Iteration 4000, loss: 0.074846\n",
      "Iteration 4100, loss: 0.077250\n",
      "Iteration 4200, loss: 0.073395\n",
      "Iteration 4300, loss: 0.036483\n",
      "Iteration 4400, loss: 0.034741\n",
      "Iteration 4500, loss: 0.066656\n",
      "Iteration 4600, loss: 0.043984\n",
      "Iteration 4700, loss: 0.084813\n",
      "Iteration 4800, loss: 0.054913\n",
      "Iteration 4900, loss: 0.087358\n"
     ]
    },
    {
     "data": {
      "image/png": "[encoded data removed]",
      "text/plain": [
       "<matplotlib.figure.Figure at 0x1118490f0>"
      ]
     },
     "metadata": {},
     "output_type": "display_data"
    }
   ],
   "source": [
    "model = CNN(TEXT, LABEL, do_binary=False)\n",
    "trainer = TextTrainer(TEXT, LABEL, model, optimizer=optim.Adadelta)\n",
    "trainer.train(train_iter, num_iter=5000)"
   ]
  },
  {
   "cell_type": "code",
   "execution_count": 5,
   "metadata": {
    "collapsed": false
   },
   "outputs": [
    {
     "name": "stdout",
     "output_type": "stream",
     "text": [
      "(1460, 1821)\n"
     ]
    }
   ],
   "source": [
    "model.eval()\n",
    "# evaluator = TextEvaluator(model)\n",
    "# evaluator.score(test_iter)\n",
    "print(model_eval(model, test, do_binary=False))"
   ]
  },
  {
   "cell_type": "code",
   "execution_count": 25,
   "metadata": {
    "collapsed": true
   },
   "outputs": [],
   "source": [
    "def model_eval2(model, test, test_iter=None, do_binary=False):\n",
    "    if test_iter is None:\n",
    "        test_iter = torchtext.data.BucketIterator(test, train=False,\n",
    "                                                  batch_size=10,\n",
    "                                                  device=-1)\n",
    "    cnt_correct = 0\n",
    "    cnt_total = 0\n",
    "    for batch in test_iter:\n",
    "        classes = get_predictions(model, batch)\n",
    "        cnt_total += batch.text.size()[1]\n",
    "        # print(batch.label == argmax, (batch.label == argmax).sum().data[0])\n",
    "        labels = TextTrainer.get_label(batch, do_binary)#.type(torch.LongTensor)\n",
    "        cnt_correct += (classes.data == labels).sum()\n",
    "    return (cnt_correct, cnt_total)"
   ]
  },
  {
   "cell_type": "markdown",
   "metadata": {},
   "source": [
    "## Ignore stuff below here (aka should delete)"
   ]
  },
  {
   "cell_type": "code",
   "execution_count": null,
   "metadata": {
    "collapsed": true
   },
   "outputs": [],
   "source": [
    "class MultinomialNB2(nn.Module):\n",
    "    def __init__(self, TEXT, LABEL):\n",
    "        super(MultinomialNB2, self).__init__()\n",
    "        self._TEXT = TEXT\n",
    "        self._LABEL = LABEL\n",
    "        self._text_vocab_len = len(self._TEXT.vocab)        \n",
    "        self.n_positive = 0\n",
    "        self.n_negative = 0\n",
    "        # Smoothing para is 1 for all features\n",
    "        self.p = torch.ones(self._text_vocab_len)\n",
    "        self.q = torch.ones(self._text_vocab_len)\n",
    "        self.r = None\n",
    "        self.index_pos = LABEL.vocab.itos.index('positive')\n",
    "        self.index_neg = LABEL.vocab.itos.index('negative')\n",
    "\n",
    "    # could use EmbeddingsBag, but there's not a huge difference in\n",
    "    # performance\n",
    "    def get_features(self, batch):\n",
    "        size_batch = batch.size()[0]\n",
    "        features = torch.zeros(size_batch, self._text_vocab_len)\n",
    "        for i in range(size_batch):\n",
    "            for j in batch[i, :]:\n",
    "                features[i, j.data[0]] += 1\n",
    "        return features\n",
    "        # return torch.Tensor(features)\n",
    "\n",
    "    def train(self, train_iter):\n",
    "        # There's probably a better way to do this\n",
    "        num_iter = len(train_iter)\n",
    "        train_iter = iter(train_iter)\n",
    "        for i in range(num_iter):\n",
    "            batch = next(train_iter)\n",
    "            if i % 100 == 0:\n",
    "                print(i)\n",
    "            # Should be [N, num-features]\n",
    "            features = self.get_features(torch.t(batch.text).contiguous())\n",
    "\n",
    "            # Using broadcasting\n",
    "            inds_pos = torch.nonzero(batch.label.data == self.index_pos)\n",
    "            inds_neg = torch.nonzero(batch.label.data == self.index_neg)\n",
    "\n",
    "\n",
    "            if inds_pos.size():\n",
    "                self.n_positive += inds_pos.size()[0]\n",
    "                self.p = torch.add(self.p, torch.sum(features[inds_pos, :], dim=0))                \n",
    "            if inds_neg.size():\n",
    "                self.n_negative += inds_neg.size()[0]\n",
    "                self.q = torch.add(self.q, torch.sum(features[inds_neg, :], dim=0))\n",
    "\n",
    "            # print(features)\n",
    "            # print(inds_neg, inds_pos)\n",
    "            # print(self.p.size(), torch.sum(features, dim=0).size())\n",
    "\n",
    "        self.r = torch.log((self.p / self.p.sum()) / (self.q / self.q.sum()))\n",
    "        \n",
    "    def forward(self, batch):\n",
    "        # for k in range(batch_text.size()[1]):\n",
    "        features = self.get_features(batch)\n",
    "        # Using broadcasting\n",
    "        return torch.matmul(features, torch.squeeze(self.r)) + \\\n",
    "            np.log(self.n_positive / self.n_negative)"
   ]
  },
  {
   "cell_type": "code",
   "execution_count": null,
   "metadata": {
    "collapsed": true
   },
   "outputs": [],
   "source": [
    "def model_eval2(model, test):\n",
    "    test_iter = torchtext.data.BucketIterator(test, train=False, batch_size=10,\n",
    "                                              device=-1)\n",
    "    cnt_correct = 0\n",
    "    cnt_total = 0\n",
    "    for batch in test_iter:\n",
    "        probs = model(torch.t(batch.text).contiguous())\n",
    "        if len(probs.size()) == 1 or (len(probs.size()) == 2 \\\n",
    "                                      and probes.size()[1] == 1):\n",
    "            signs = torch.sign(probs).type(torch.LongTensor)\n",
    "            classes = (signs + 1) * (model.index_pos - model.index_neg) / 2 + \\\n",
    "                      model.index_neg\n",
    "            # print(classes, probs)\n",
    "        else:\n",
    "            _, argmax = probs.max(1)\n",
    "            classes = argmax\n",
    "            \n",
    "        cnt_total += batch.text.size()[1]\n",
    "        # print(batch.label == argmax, (batch.label == argmax).sum().data[0])\n",
    "        cnt_correct += (classes == batch.label.data).sum()\n",
    "    return (cnt_correct, cnt_total)\n"
   ]
  },
  {
   "cell_type": "code",
   "execution_count": null,
   "metadata": {
    "collapsed": true
   },
   "outputs": [],
   "source": [
    "class CBOW(nn.Module):\n",
    "    def __init__(self, TEXT, LABEL):\n",
    "        super(CBOW, self).__init__()\n",
    "        # Embeddings vectors (should be trainable); [V, d]\n",
    "        # TODO: is default for requires_grad True?\n",
    "        self.embeddings = nn.EmbeddingBag(TEXT.vocab.vectors.size()[0],\n",
    "                                          TEXT.vocab.vectors.size()[1],\n",
    "                                          mode='sum')\n",
    "        self.embeddings.weight = nn.Parameter(TEXT.vocab.vectors, requires_grad=True)\n",
    "        \n",
    "        # Linear layer\n",
    "        self.linear = nn.Linear(TEXT.vocab.vectors.size()[1], len(LABEL.vocab))\n",
    "        \n",
    "    # Here bow is [len-of-sentence, N] -- it is an integer matrix\n",
    "    def forward(self, bow):\n",
    "        bow_features = self.embeddings(bow)\n",
    "        return F.log_softmax(self.linear(bow_features), dim=1)"
   ]
  },
  {
   "cell_type": "code",
   "execution_count": null,
   "metadata": {
    "collapsed": true
   },
   "outputs": [],
   "source": []
  }
 ],
 "metadata": {
  "kernelspec": {
   "display_name": "Python 3",
   "language": "python",
   "name": "python3"
  },
  "language_info": {
   "codemirror_mode": {
    "name": "ipython",
    "version": 3
   },
   "file_extension": ".py",
   "mimetype": "text/x-python",
   "name": "python",
   "nbconvert_exporter": "python",
   "pygments_lexer": "ipython3",
   "version": "3.6.2"
  }
 },
 "nbformat": 4,
 "nbformat_minor": 2
}
