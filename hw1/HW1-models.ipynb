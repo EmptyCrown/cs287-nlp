{
 "cells": [
  {
   "cell_type": "code",
   "execution_count": 1,
   "metadata": {
    "collapsed": true
   },
   "outputs": [],
   "source": [
    "import torchtext\n",
    "from torchtext.vocab import Vectors, GloVe\n",
    "import torch\n",
    "import torch.autograd as autograd\n",
    "import torch.nn as nn\n",
    "import torch.nn.functional as F\n",
    "import torch.optim as optim\n",
    "import numpy as np\n",
    "from submission.models import *\n",
    "from evaluation import *\n",
    "from submission.helpers import *"
   ]
  },
  {
   "cell_type": "code",
   "execution_count": 3,
   "metadata": {
    "collapsed": true
   },
   "outputs": [],
   "source": [
    "# Our input $x$\n",
    "TEXT = torchtext.data.Field()\n",
    "    \n",
    "# Our labels $y$\n",
    "LABEL = torchtext.data.Field(sequential=False)\n",
    "\n",
    "\n",
    "train, val, test = torchtext.datasets.SST.splits(\n",
    "    TEXT, LABEL,\n",
    "    filter_pred=lambda ex: ex.label != 'neutral')\n",
    "\n",
    "# Build vocab\n",
    "TEXT.build_vocab(train)\n",
    "LABEL.build_vocab(train)\n",
    "\n",
    "train_iter, val_iter, test_iter = torchtext.data.BucketIterator.splits(\n",
    "(train, val, test), batch_size=50, device=-1, repeat=False)\n",
    "\n",
    "# Build the vocabulary with word embeddings\n",
    "url = 'https://s3-us-west-1.amazonaws.com/fasttext-vectors/wiki.simple.vec'\n",
    "TEXT.vocab.load_vectors(vectors=Vectors('wiki.simple.vec', url=url))"
   ]
  },
  {
   "cell_type": "code",
   "execution_count": null,
   "metadata": {},
   "outputs": [],
   "source": [
    "# LOGISTIC REGRESSION\n",
    "model_lr = LogisticRegression(TEXT, LABEL)\n",
    "trainer = TextTrainer(TEXT, LABEL, model_lr)\n",
    "trainer.train(train_iter, num_iter=1000, skip_iter=100)"
   ]
  },
  {
   "cell_type": "code",
   "execution_count": 3,
   "metadata": {},
   "outputs": [
    {
     "name": "stdout",
     "output_type": "stream",
     "text": [
      "0\n",
      "100\n"
     ]
    }
   ],
   "source": [
    "# MULTINOMIAL NAIVE BAYES\n",
    "model_mnb = MultinomialNB(TEXT, LABEL, bag_or_set='set')\n",
    "model_mnb.train(train_iter)"
   ]
  },
  {
   "cell_type": "code",
   "execution_count": 4,
   "metadata": {},
   "outputs": [
    {
     "name": "stdout",
     "output_type": "stream",
     "text": [
      "(1496, 1821)\n"
     ]
    }
   ],
   "source": [
    "# EVALUATION\n",
    "print(model_eval(model_mnb, test, test_iter))\n",
    "# train_iter, val_iter, test_iter = torchtext.data.BucketIterator.splits(\n",
    "#     (train, val, test), batch_size=10, device=-1, repeat=False)\n",
    "# model_save_predictions(model_mnb, test_iter, predictions_file='predictions-4.txt')"
   ]
  },
  {
   "cell_type": "code",
   "execution_count": 5,
   "metadata": {},
   "outputs": [
    {
     "name": "stdout",
     "output_type": "stream",
     "text": [
      "Iteration 0, loss: 1.048220\n",
      "Iteration 100, loss: 0.331448\n",
      "Iteration 200, loss: 0.257269\n",
      "Iteration 300, loss: 0.121578\n",
      "Iteration 400, loss: 0.459882\n",
      "Iteration 500, loss: 0.468793\n",
      "Iteration 600, loss: 0.091529\n",
      "Iteration 700, loss: 0.115263\n",
      "Iteration 800, loss: 0.432724\n",
      "Iteration 900, loss: 0.023642\n",
      "Iteration 1000, loss: 0.146973\n",
      "Iteration 1100, loss: 0.106556\n",
      "Iteration 1200, loss: 0.001832\n",
      "Iteration 1300, loss: 0.053486\n",
      "Iteration 1400, loss: 0.094997\n",
      "Iteration 1500, loss: 0.376548\n",
      "Iteration 1600, loss: 0.031736\n",
      "Iteration 1700, loss: 0.153886\n",
      "Iteration 1800, loss: 0.480524\n",
      "Iteration 1900, loss: 0.094764\n",
      "Iteration 2000, loss: 0.054036\n",
      "Iteration 2100, loss: 0.167741\n",
      "Iteration 2200, loss: 0.781658\n",
      "Iteration 2300, loss: 0.323391\n",
      "Iteration 2400, loss: 0.307176\n",
      "Iteration 2500, loss: 0.080178\n",
      "Iteration 2600, loss: 0.133883\n",
      "Iteration 2700, loss: 0.095422\n",
      "Iteration 2800, loss: 0.574451\n",
      "Iteration 2900, loss: 0.092676\n",
      "Iteration 3000, loss: 0.070559\n",
      "Iteration 3100, loss: 0.388640\n",
      "Iteration 3200, loss: 0.095575\n",
      "Iteration 3300, loss: 0.016124\n",
      "Iteration 3400, loss: 0.547144\n",
      "Iteration 3500, loss: 0.030210\n",
      "Iteration 3600, loss: 0.083128\n",
      "Iteration 3700, loss: 0.036894\n",
      "Iteration 3800, loss: 1.182448\n",
      "Iteration 3900, loss: 0.061912\n",
      "Iteration 4000, loss: 0.482755\n",
      "Iteration 4100, loss: 0.121230\n",
      "Iteration 4200, loss: 0.131460\n",
      "Iteration 4300, loss: 0.493808\n",
      "Iteration 4400, loss: 0.044765\n",
      "Iteration 4500, loss: 0.024489\n",
      "Iteration 4600, loss: 0.011075\n",
      "Iteration 4700, loss: 0.312350\n",
      "Iteration 4800, loss: 0.083664\n",
      "Iteration 4900, loss: 0.001261\n"
     ]
    },
    {
     "data": {
      "image/png": "[encoded data removed]",
      "text/plain": [
       "<matplotlib.figure.Figure at 0x102288c88>"
      ]
     },
     "metadata": {},
     "output_type": "display_data"
    }
   ],
   "source": [
    "# CONTINUOUS BAG OF WORDS\n",
    "model_cbow = CBOW(TEXT, LABEL, dynamic=False)\n",
    "trainer = TextTrainer(TEXT, LABEL, model_cbow)\n",
    "model_cbow.train()\n",
    "trainer.train(train_iter, num_iter=5000)"
   ]
  },
  {
   "cell_type": "code",
   "execution_count": 4,
   "metadata": {},
   "outputs": [
    {
     "name": "stdout",
     "output_type": "stream",
     "text": [
      "Iteration 0, loss: 1.107660\n",
      "Iteration 100, loss: 0.690641\n",
      "Iteration 200, loss: 0.655199\n",
      "Iteration 300, loss: 0.694694\n",
      "Iteration 400, loss: 0.594067\n",
      "Iteration 500, loss: 0.604510\n",
      "Iteration 600, loss: 0.509097\n",
      "Iteration 700, loss: 0.562376\n",
      "Iteration 800, loss: 0.451537\n",
      "Iteration 900, loss: 0.517283\n",
      "Iteration 1000, loss: 0.494886\n",
      "Iteration 1100, loss: 0.367105\n",
      "Iteration 1200, loss: 0.460856\n",
      "Iteration 1300, loss: 0.391581\n",
      "Iteration 1400, loss: 0.357110\n",
      "Iteration 1500, loss: 0.290865\n",
      "Iteration 1600, loss: 0.353636\n",
      "Iteration 1700, loss: 0.360842\n",
      "Iteration 1800, loss: 0.190142\n",
      "Iteration 1900, loss: 0.278571\n",
      "Iteration 2000, loss: 0.224354\n",
      "Iteration 2100, loss: 0.311734\n",
      "Iteration 2200, loss: 0.150293\n",
      "Iteration 2300, loss: 0.236723\n",
      "Iteration 2400, loss: 0.116120\n",
      "Iteration 2500, loss: 0.230273\n",
      "Iteration 2600, loss: 0.260184\n",
      "Iteration 2700, loss: 0.114305\n",
      "Iteration 2800, loss: 0.103850\n",
      "Iteration 2900, loss: 0.199170\n",
      "Iteration 3000, loss: 0.140034\n",
      "Iteration 3100, loss: 0.157483\n",
      "Iteration 3200, loss: 0.119303\n",
      "Iteration 3300, loss: 0.095818\n",
      "Iteration 3400, loss: 0.232423\n",
      "Iteration 3500, loss: 0.076780\n",
      "Iteration 3600, loss: 0.115657\n",
      "Iteration 3700, loss: 0.114456\n",
      "Iteration 3800, loss: 0.067568\n",
      "Iteration 3900, loss: 0.054242\n",
      "Iteration 4000, loss: 0.022131\n",
      "Iteration 4100, loss: 0.097209\n",
      "Iteration 4200, loss: 0.058308\n",
      "Iteration 4300, loss: 0.061867\n",
      "Iteration 4400, loss: 0.034885\n",
      "Iteration 4500, loss: 0.040329\n",
      "Iteration 4600, loss: 0.037834\n",
      "Iteration 4700, loss: 0.018967\n",
      "Iteration 4800, loss: 0.025995\n",
      "Iteration 4900, loss: 0.013427\n",
      "Iteration 5000, loss: 0.049547\n",
      "Iteration 5100, loss: 0.051477\n",
      "Iteration 5200, loss: 0.027283\n",
      "Iteration 5300, loss: 0.026816\n",
      "Iteration 5400, loss: 0.018503\n",
      "Iteration 5500, loss: 0.018371\n",
      "Iteration 5600, loss: 0.019860\n",
      "Iteration 5700, loss: 0.026350\n",
      "Iteration 5800, loss: 0.012094\n",
      "Iteration 5900, loss: 0.024349\n",
      "Iteration 6000, loss: 0.011703\n",
      "Iteration 6100, loss: 0.011332\n",
      "Iteration 6200, loss: 0.022628\n",
      "Iteration 6300, loss: 0.020188\n",
      "Iteration 6400, loss: 0.028241\n",
      "Iteration 6500, loss: 0.007189\n",
      "Iteration 6600, loss: 0.006577\n",
      "Iteration 6700, loss: 0.010045\n",
      "Iteration 6800, loss: 0.076444\n",
      "Iteration 6900, loss: 0.005097\n",
      "Iteration 7000, loss: 0.007347\n",
      "Iteration 7100, loss: 0.010338\n",
      "Iteration 7200, loss: 0.011023\n",
      "Iteration 7300, loss: 0.009127\n",
      "Iteration 7400, loss: 0.011254\n",
      "Iteration 7500, loss: 0.041690\n",
      "Iteration 7600, loss: 0.006522\n",
      "Iteration 7700, loss: 0.008549\n",
      "Iteration 7800, loss: 0.009868\n",
      "Iteration 7900, loss: 0.024450\n",
      "Iteration 8000, loss: 0.005573\n",
      "Iteration 8100, loss: 0.009052\n",
      "Iteration 8200, loss: 0.013042\n",
      "Iteration 8300, loss: 0.004826\n",
      "Iteration 8400, loss: 0.013118\n",
      "Iteration 8500, loss: 0.014352\n",
      "Iteration 8600, loss: 0.004727\n",
      "Iteration 8700, loss: 0.006131\n",
      "Iteration 8800, loss: 0.028677\n",
      "Iteration 8900, loss: 0.013508\n",
      "Iteration 9000, loss: 0.010158\n",
      "Iteration 9100, loss: 0.007929\n",
      "Iteration 9200, loss: 0.012389\n",
      "Iteration 9300, loss: 0.002539\n",
      "Iteration 9400, loss: 0.003263\n",
      "Iteration 9500, loss: 0.004352\n",
      "Iteration 9600, loss: 0.038111\n",
      "Iteration 9700, loss: 0.004942\n",
      "Iteration 9800, loss: 0.009144\n",
      "Iteration 9900, loss: 0.008458\n"
     ]
    },
    {
     "data": {
      "image/png": "[encoded data removed]",
      "text/plain": [
       "<matplotlib.figure.Figure at 0x1a1ea3b128>"
      ]
     },
     "metadata": {},
     "output_type": "display_data"
    }
   ],
   "source": [
    "# CONVOLUTIONAL NEURAL NETWORK (can modify do_binary, activation)\n",
    "model = CNN(TEXT, LABEL, do_binary=False, activation=F.tanh, train_embeddings=False)\n",
    "trainer = TextTrainer(TEXT, LABEL, model, optimizer=optim.Adadelta)\n",
    "model.train()\n",
    "trainer.train(train_iter, num_iter=10000)"
   ]
  },
  {
   "cell_type": "code",
   "execution_count": 5,
   "metadata": {},
   "outputs": [
    {
     "name": "stdout",
     "output_type": "stream",
     "text": [
      "(1459, 1821)\n"
     ]
    }
   ],
   "source": [
    "# EVALUATION AGAIN\n",
    "# for i in range(10):\n",
    "model.eval()\n",
    "# print\n",
    "# evaluator = TextEvaluator(model)\n",
    "# evaluator.score(test_iter)\n",
    "print(model_eval(model, test, do_binary=False))\n",
    "# model.train()"
   ]
  },
  {
   "cell_type": "code",
   "execution_count": null,
   "metadata": {
    "collapsed": true
   },
   "outputs": [],
   "source": []
  }
 ],
 "metadata": {
  "kernelspec": {
   "display_name": "Python 3",
   "language": "python",
   "name": "python3"
  },
  "language_info": {
   "codemirror_mode": {
    "name": "ipython",
    "version": 3
   },
   "file_extension": ".py",
   "mimetype": "text/x-python",
   "name": "python",
   "nbconvert_exporter": "python",
   "pygments_lexer": "ipython3",
   "version": "3.5.3"
  }
 },
 "nbformat": 4,
 "nbformat_minor": 2
}
