{
 "cells": [
  {
   "cell_type": "code",
   "execution_count": 1,
   "metadata": {
    "collapsed": true
   },
   "outputs": [],
   "source": [
    "import torchtext\n",
    "from torchtext.vocab import Vectors, GloVe\n",
    "import torch\n",
    "import torch.autograd as autograd\n",
    "import torch.nn as nn\n",
    "import torch.nn.functional as F\n",
    "import torch.optim as optim\n",
    "import numpy as np\n",
    "from submission.models import *\n",
    "from evaluation import *\n",
    "from submission.helpers import *"
   ]
  },
  {
   "cell_type": "code",
   "execution_count": 2,
   "metadata": {
    "collapsed": true
   },
   "outputs": [],
   "source": [
    "# Our input $x$\n",
    "TEXT = torchtext.data.Field()\n",
    "    \n",
    "# Our labels $y$\n",
    "LABEL = torchtext.data.Field(sequential=False)\n",
    "\n",
    "\n",
    "train, val, test = torchtext.datasets.SST.splits(\n",
    "    TEXT, LABEL,\n",
    "    filter_pred=lambda ex: ex.label != 'neutral')\n",
    "\n",
    "# Build vocab\n",
    "TEXT.build_vocab(train)\n",
    "LABEL.build_vocab(train)\n",
    "\n",
    "train_iter, val_iter, test_iter = torchtext.data.BucketIterator.splits(\n",
    "(train, val, test), batch_size=10, device=-1, repeat=False)\n",
    "\n",
    "# Build the vocabulary with word embeddings\n",
    "url = 'https://s3-us-west-1.amazonaws.com/fasttext-vectors/wiki.simple.vec'\n",
    "TEXT.vocab.load_vectors(vectors=Vectors('wiki.simple.vec', url=url))"
   ]
  },
  {
   "cell_type": "code",
   "execution_count": null,
   "metadata": {},
   "outputs": [],
   "source": [
    "# LOGISTIC REGRESSION\n",
    "model_lr = LogisticRegression(TEXT, LABEL)\n",
    "trainer = TextTrainer(TEXT, LABEL, model_lr)\n",
    "trainer.train(train_iter, num_iter=1000, skip_iter=100)"
   ]
  },
  {
   "cell_type": "code",
   "execution_count": 3,
   "metadata": {},
   "outputs": [
    {
     "name": "stdout",
     "output_type": "stream",
     "text": [
      "0\n",
      "100\n"
     ]
    }
   ],
   "source": [
    "# MULTINOMIAL NAIVE BAYES\n",
    "model_mnb = MultinomialNB(TEXT, LABEL, bag_or_set='set')\n",
    "model_mnb.train(train_iter)"
   ]
  },
  {
   "cell_type": "code",
   "execution_count": 4,
   "metadata": {},
   "outputs": [
    {
     "name": "stdout",
     "output_type": "stream",
     "text": [
      "(1496, 1821)\n"
     ]
    }
   ],
   "source": [
    "# EVALUATION\n",
    "print(model_eval(model_mnb, test, test_iter))\n",
    "# train_iter, val_iter, test_iter = torchtext.data.BucketIterator.splits(\n",
    "#     (train, val, test), batch_size=10, device=-1, repeat=False)\n",
    "# model_save_predictions(model_mnb, test_iter, predictions_file='predictions-4.txt')"
   ]
  },
  {
   "cell_type": "code",
   "execution_count": 5,
   "metadata": {},
   "outputs": [
    {
     "name": "stdout",
     "output_type": "stream",
     "text": [
      "Iteration 0, loss: 1.048220\n",
      "Iteration 100, loss: 0.331448\n",
      "Iteration 200, loss: 0.257269\n",
      "Iteration 300, loss: 0.121578\n",
      "Iteration 400, loss: 0.459882\n",
      "Iteration 500, loss: 0.468793\n",
      "Iteration 600, loss: 0.091529\n",
      "Iteration 700, loss: 0.115263\n",
      "Iteration 800, loss: 0.432724\n",
      "Iteration 900, loss: 0.023642\n",
      "Iteration 1000, loss: 0.146973\n",
      "Iteration 1100, loss: 0.106556\n",
      "Iteration 1200, loss: 0.001832\n",
      "Iteration 1300, loss: 0.053486\n",
      "Iteration 1400, loss: 0.094997\n",
      "Iteration 1500, loss: 0.376548\n",
      "Iteration 1600, loss: 0.031736\n",
      "Iteration 1700, loss: 0.153886\n",
      "Iteration 1800, loss: 0.480524\n",
      "Iteration 1900, loss: 0.094764\n",
      "Iteration 2000, loss: 0.054036\n",
      "Iteration 2100, loss: 0.167741\n",
      "Iteration 2200, loss: 0.781658\n",
      "Iteration 2300, loss: 0.323391\n",
      "Iteration 2400, loss: 0.307176\n",
      "Iteration 2500, loss: 0.080178\n",
      "Iteration 2600, loss: 0.133883\n",
      "Iteration 2700, loss: 0.095422\n",
      "Iteration 2800, loss: 0.574451\n",
      "Iteration 2900, loss: 0.092676\n",
      "Iteration 3000, loss: 0.070559\n",
      "Iteration 3100, loss: 0.388640\n",
      "Iteration 3200, loss: 0.095575\n",
      "Iteration 3300, loss: 0.016124\n",
      "Iteration 3400, loss: 0.547144\n",
      "Iteration 3500, loss: 0.030210\n",
      "Iteration 3600, loss: 0.083128\n",
      "Iteration 3700, loss: 0.036894\n",
      "Iteration 3800, loss: 1.182448\n",
      "Iteration 3900, loss: 0.061912\n",
      "Iteration 4000, loss: 0.482755\n",
      "Iteration 4100, loss: 0.121230\n",
      "Iteration 4200, loss: 0.131460\n",
      "Iteration 4300, loss: 0.493808\n",
      "Iteration 4400, loss: 0.044765\n",
      "Iteration 4500, loss: 0.024489\n",
      "Iteration 4600, loss: 0.011075\n",
      "Iteration 4700, loss: 0.312350\n",
      "Iteration 4800, loss: 0.083664\n",
      "Iteration 4900, loss: 0.001261\n"
     ]
    },
    {
     "data": {
      "image/png": "[encoded data removed]",
      "text/plain": [
       "<matplotlib.figure.Figure at 0x102288c88>"
      ]
     },
     "metadata": {},
     "output_type": "display_data"
    }
   ],
   "source": [
    "# CONTINUOUS BAG OF WORDS\n",
    "model_cbow = CBOW(TEXT, LABEL, dynamic=False)\n",
    "trainer = TextTrainer(TEXT, LABEL, model_cbow)\n",
    "model_cbow.train()\n",
    "trainer.train(train_iter, num_iter=5000)"
   ]
  },
  {
   "cell_type": "code",
   "execution_count": 11,
   "metadata": {},
   "outputs": [
    {
     "name": "stdout",
     "output_type": "stream",
     "text": [
      "Iteration 0, loss: 1.065750\n",
      "Iteration 100, loss: 0.681013\n",
      "Iteration 200, loss: 0.593599\n",
      "Iteration 300, loss: 0.590616\n",
      "Iteration 400, loss: 0.565976\n",
      "Iteration 500, loss: 0.522594\n",
      "Iteration 600, loss: 0.424244\n",
      "Iteration 700, loss: 0.489331\n",
      "Iteration 800, loss: 0.521590\n",
      "Iteration 900, loss: 0.543012\n",
      "Iteration 1000, loss: 0.340261\n",
      "Iteration 1100, loss: 0.425371\n",
      "Iteration 1200, loss: 0.415462\n",
      "Iteration 1300, loss: 0.434068\n",
      "Iteration 1400, loss: 0.271391\n",
      "Iteration 1500, loss: 0.281610\n",
      "Iteration 1600, loss: 0.242360\n",
      "Iteration 1700, loss: 0.203285\n",
      "Iteration 1800, loss: 0.218924\n",
      "Iteration 1900, loss: 0.200586\n",
      "Iteration 2000, loss: 0.180271\n",
      "Iteration 2100, loss: 0.124264\n",
      "Iteration 2200, loss: 0.097400\n",
      "Iteration 2300, loss: 0.217475\n",
      "Iteration 2400, loss: 0.174571\n",
      "Iteration 2500, loss: 0.194826\n",
      "Iteration 2600, loss: 0.093210\n",
      "Iteration 2700, loss: 0.121249\n",
      "Iteration 2800, loss: 0.044407\n",
      "Iteration 2900, loss: 0.061441\n",
      "Iteration 3000, loss: 0.099876\n",
      "Iteration 3100, loss: 0.066811\n",
      "Iteration 3200, loss: 0.046701\n",
      "Iteration 3300, loss: 0.042636\n",
      "Iteration 3400, loss: 0.055425\n",
      "Iteration 3500, loss: 0.048922\n",
      "Iteration 3600, loss: 0.029928\n",
      "Iteration 3700, loss: 0.028056\n",
      "Iteration 3800, loss: 0.047569\n",
      "Iteration 3900, loss: 0.027125\n",
      "Iteration 4000, loss: 0.033792\n",
      "Iteration 4100, loss: 0.025323\n",
      "Iteration 4200, loss: 0.027295\n",
      "Iteration 4300, loss: 0.018818\n",
      "Iteration 4400, loss: 0.024862\n",
      "Iteration 4500, loss: 0.030700\n",
      "Iteration 4600, loss: 0.024573\n",
      "Iteration 4700, loss: 0.035567\n",
      "Iteration 4800, loss: 0.019534\n",
      "Iteration 4900, loss: 0.021318\n",
      "Iteration 5000, loss: 0.013011\n",
      "Iteration 5100, loss: 0.008996\n",
      "Iteration 5200, loss: 0.019131\n",
      "Iteration 5300, loss: 0.006601\n",
      "Iteration 5400, loss: 0.012502\n",
      "Iteration 5500, loss: 0.011046\n",
      "Iteration 5600, loss: 0.006911\n",
      "Iteration 5700, loss: 0.005389\n",
      "Iteration 5800, loss: 0.021841\n",
      "Iteration 5900, loss: 0.007971\n",
      "Iteration 6000, loss: 0.006547\n",
      "Iteration 6100, loss: 0.007818\n",
      "Iteration 6200, loss: 0.005077\n",
      "Iteration 6300, loss: 0.007400\n",
      "Iteration 6400, loss: 0.006232\n",
      "Iteration 6500, loss: 0.007864\n",
      "Iteration 6600, loss: 0.005236\n",
      "Iteration 6700, loss: 0.002576\n",
      "Iteration 6800, loss: 0.004905\n",
      "Iteration 6900, loss: 0.004975\n",
      "Iteration 7000, loss: 0.004689\n",
      "Iteration 7100, loss: 0.003446\n",
      "Iteration 7200, loss: 0.003606\n",
      "Iteration 7300, loss: 0.004773\n",
      "Iteration 7400, loss: 0.004784\n",
      "Iteration 7500, loss: 0.001607\n",
      "Iteration 7600, loss: 0.003226\n",
      "Iteration 7700, loss: 0.003911\n",
      "Iteration 7800, loss: 0.002559\n",
      "Iteration 7900, loss: 0.002579\n",
      "Iteration 8000, loss: 0.003050\n",
      "Iteration 8100, loss: 0.002036\n",
      "Iteration 8200, loss: 0.003079\n",
      "Iteration 8300, loss: 0.002354\n",
      "Iteration 8400, loss: 0.003215\n",
      "Iteration 8500, loss: 0.003299\n",
      "Iteration 8600, loss: 0.003234\n",
      "Iteration 8700, loss: 0.008415\n",
      "Iteration 8800, loss: 0.005955\n",
      "Iteration 8900, loss: 0.005292\n",
      "Iteration 9000, loss: 0.009146\n",
      "Iteration 9100, loss: 0.002501\n",
      "Iteration 9200, loss: 0.002912\n",
      "Iteration 9300, loss: 0.003669\n",
      "Iteration 9400, loss: 0.001850\n",
      "Iteration 9500, loss: 0.004267\n",
      "Iteration 9600, loss: 0.003335\n",
      "Iteration 9700, loss: 0.002113\n",
      "Iteration 9800, loss: 0.001862\n",
      "Iteration 9900, loss: 0.002899\n"
     ]
    },
    {
     "data": {
      "image/png": "[encoded data removed]",
      "text/plain": [
       "<matplotlib.figure.Figure at 0x1a1f690828>"
      ]
     },
     "metadata": {},
     "output_type": "display_data"
    }
   ],
   "source": [
    "# CONVOLUTIONAL NEURAL NETWORK (can modify do_binary, activation)\n",
    "model = CNN(TEXT, LABEL, do_binary=False, activation=F.tanh)\n",
    "trainer = TextTrainer(TEXT, LABEL, model, optimizer=optim.Adadelta)\n",
    "model.train()\n",
    "trainer.train(train_iter, num_iter=10000)"
   ]
  },
  {
   "cell_type": "code",
   "execution_count": 6,
   "metadata": {},
   "outputs": [
    {
     "name": "stdout",
     "output_type": "stream",
     "text": [
      "(1407, 1821)\n"
     ]
    }
   ],
   "source": [
    "# EVALUATION AGAIN\n",
    "# for i in range(10):\n",
    "model_cbow.eval()\n",
    "# print\n",
    "# evaluator = TextEvaluator(model)\n",
    "# evaluator.score(test_iter)\n",
    "print(model_eval(model_cbow, test, do_binary=False))\n",
    "# model.train()"
   ]
  }
 ],
 "metadata": {
  "kernelspec": {
   "display_name": "Python 3",
   "language": "python",
   "name": "python3"
  },
  "language_info": {
   "codemirror_mode": {
    "name": "ipython",
    "version": 3
   },
   "file_extension": ".py",
   "mimetype": "text/x-python",
   "name": "python",
   "nbconvert_exporter": "python",
   "pygments_lexer": "ipython3",
   "version": "3.5.3"
  }
 },
 "nbformat": 4,
 "nbformat_minor": 2
}
