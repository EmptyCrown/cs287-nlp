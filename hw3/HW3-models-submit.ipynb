{
 "cells": [
  {
   "cell_type": "code",
   "execution_count": null,
   "metadata": {
    "collapsed": true
   },
   "outputs": [],
   "source": [
    "# Text text processing library\n",
    "import torchtext\n",
    "from torchtext import data\n",
    "from torchtext import datasets\n",
    "from torchtext.vocab import Vectors\n",
    "import torch\n",
    "import torch.autograd as autograd\n",
    "import torch.nn as nn\n",
    "import torch.nn.functional as F\n",
    "import torch.optim as optim\n",
    "import numpy as np\n",
    "import itertools as it\n",
    "from models import *\n",
    "from helpers import *\n",
    "# import main\n",
    "import matplotlib.pyplot as plt\n",
    "import spacy\n",
    "import time\n",
    "import itertools as it\n",
    "MAX_LEN = 20\n",
    "MIN_FREQ = 5"
   ]
  },
  {
   "cell_type": "code",
   "execution_count": null,
   "metadata": {
    "collapsed": true
   },
   "outputs": [],
   "source": [
    "spacy_de = spacy.load('de')\n",
    "spacy_en = spacy.load('en')\n",
    "\n",
    "def tokenize_de(text):\n",
    "    return [tok.text for tok in spacy_de.tokenizer(text)]\n",
    "\n",
    "def tokenize_en(text):\n",
    "    return [tok.text for tok in spacy_en.tokenizer(text)]\n",
    "\n",
    "BOS_WORD = '<s>'\n",
    "EOS_WORD = '</s>'\n",
    "DE = data.Field(tokenize=tokenize_de)\n",
    "\n",
    "# only target needs BOS/EOS:\n",
    "EN = data.Field(tokenize=tokenize_en, init_token = BOS_WORD, eos_token = EOS_WORD) \n",
    "\n",
    "train, val, test = datasets.IWSLT.splits(exts=('.de', '.en'), fields=(DE, EN), \n",
    "                                         filter_pred=lambda x: len(vars(x)['src']) <= MAX_LEN and \n",
    "                                         len(vars(x)['trg']) <= MAX_LEN)"
   ]
  },
  {
   "cell_type": "code",
   "execution_count": null,
   "metadata": {
    "collapsed": true
   },
   "outputs": [],
   "source": [
    "DE.build_vocab(train.src, min_freq=MIN_FREQ)\n",
    "EN.build_vocab(train.trg, min_freq=MIN_FREQ)\n",
    "\n",
    "pred_set = []\n",
    "for i, line in enumerate(open(\"source_test.txt\"), 1):\n",
    "    words = line.split()# [:-1]\n",
    "    pred_set.append([DE.vocab.stoi[s] for s in words])\n",
    "\n",
    "train_iter, val_iter, test_iter = data.BucketIterator.splits((train, val, test), batch_size=32, device=-1,\n",
    "                                                  repeat=False, sort_key=lambda x: len(x.src))"
   ]
  },
  {
   "cell_type": "code",
   "execution_count": null,
   "metadata": {},
   "outputs": [],
   "source": [
    "train_iter, val_iter = data.BucketIterator.splits((train, val), batch_size=32, device=-1,\n",
    "                                                  repeat=False, sort_key=lambda x: len(x.src))\n",
    "bs_encoder = BaseEncoder(DE, hidden_size=500, num_layers=4, word_features=500)\n",
    "bs_decoder = BaseDecoder(EN, hidden_size=500, num_layers=4, word_features=500)\n",
    "trainer = NMTTrainer([bs_encoder, bs_decoder], DE, EN, lrn_rate=0.7, \n",
    "                     lrn_decay='adaptive', reverse_enc_input=False)\n",
    "evaluator = NMTEvaluator([bs_encoder, bs_decoder], DE, EN, reverse_enc_input=False)\n",
    "trainer.train(train_iter, verbose=True, le=evaluator, val_iter=val_iter)"
   ]
  },
  {
   "cell_type": "code",
   "execution_count": null,
   "metadata": {},
   "outputs": [],
   "source": [
    "bs_encoder = BaseEncoder(DE, hidden_size=650, num_layers=4, word_features=650, \n",
    "                         bidirectional=True, dropout=0.35)\n",
    "# TODO: decide whether to add dropout to output states of encoder!\n",
    "at_decoder = AttnDecoder(EN, hidden_size=650, num_layers=4, word_features=650, dropout=0.35,\n",
    "                         tie_weights=True, enc_linear=650,\n",
    "                         enc_bidirectional=True)\n",
    "evaluator = NMTEvaluator([bs_encoder, at_decoder], DE, EN, attention=True,\n",
    "                        record_attention=False, cuda=True)\n",
    "evaluator.evaluate(test_iter)"
   ]
  },
  {
   "cell_type": "code",
   "execution_count": null,
   "metadata": {
    "scrolled": false
   },
   "outputs": [],
   "source": [
    "train_iter, val_iter = data.BucketIterator.splits((train, val), batch_size=32, device=-1,\n",
    "                                                  repeat=False, sort_key=lambda x: len(x.src))\n",
    "bs_encoder = BaseEncoder(DE, hidden_size=650, num_layers=4, word_features=650, \n",
    "                         bidirectional=True, dropout=0.35)\n",
    "# TODO: decide whether to add dropout to output states of encoder!\n",
    "at_decoder = AttnDecoder(EN, hidden_size=650, num_layers=4, word_features=650, dropout=0.35,\n",
    "                         tie_weights=True, enc_linear=650,\n",
    "                         enc_bidirectional=True)\n",
    "trainer = NMTTrainer([bs_encoder, at_decoder], DE, EN, lrn_rate=1.2, \n",
    "                     lrn_decay='adaptive', attention=True,\n",
    "                     clip_norm=5, lrn_decay_force=8, cuda=True)\n",
    "evaluator = NMTEvaluator([bs_encoder, at_decoder], DE, EN, attention=True,\n",
    "                        record_attention=False, cuda=True)\n",
    "trainer.train(train_iter, verbose=True, le=evaluator, val_iter=val_iter,\n",
    "              save_model_fn='attn_med_5', num_iter=20)\n",
    "# KEYXX"
   ]
  },
  {
   "cell_type": "code",
   "execution_count": null,
   "metadata": {},
   "outputs": [],
   "source": [
    "# Grid search example\n",
    "cnt = 0\n",
    "for hs, tw, force, drop in it.product([200,400,600],[False, True],\n",
    "                                      [4,8],[0.2, 0.4]):\n",
    "    print(hs, tw, force, drop)\n",
    "    train_iter, val_iter = data.BucketIterator.splits((train, val), batch_size=32, device=-1,\n",
    "                                                      repeat=False, sort_key=lambda x: len(x.src))\n",
    "    bs_encoder = BaseEncoder(DE, hidden_size=hs, num_layers=4, word_features=hs, \n",
    "                             dropout=drop)\n",
    "    # TODO: decide whether to add dropout to output states of encoder!\n",
    "    at_decoder = AttnDecoder(EN, hidden_size=hs, num_layers=4, word_features=hs, dropout=drop,\n",
    "                             tie_weights=tw)\n",
    "    trainer = NMTTrainer([bs_encoder, at_decoder], DE, EN, lrn_rate=1.0, \n",
    "                         lrn_decay='adaptive', attention=True,\n",
    "                         clip_norm=5, lrn_decay_force=force)\n",
    "    evaluator = NMTEvaluator([bs_encoder, at_decoder], DE, EN, attention=True,\n",
    "                            record_attention=False)\n",
    "    trainer.train(train_iter, verbose=True, le=evaluator, val_iter=val_iter,\n",
    "                  save_model_fn='attn_grid_%d' % cnt, num_iter=10)\n",
    "    cnt += 1"
   ]
  },
  {
   "cell_type": "code",
   "execution_count": null,
   "metadata": {},
   "outputs": [],
   "source": [
    "# Load a model and continue training:\n",
    "ld_enc, ld_dec = load_checkpoint('saved_models/attn_med_1.epoch_8.ckpt.tar')\n",
    "ld_encoder = BaseEncoder(DE, hidden_size=400, num_layers=4, word_features=400, \n",
    "                         dropout=0.2)\n",
    "ld_decoder = AttnDecoder(EN, hidden_size=400, num_layers=4, word_features=400, \n",
    "                         dropout=0.2)\n",
    "set_parameters(ld_encoder, ld_enc)\n",
    "set_parameters(ld_decoder, ld_dec)\n",
    "evaluator = NMTEvaluator([ld_encoder, ld_decoder], DE, EN, attention=True,\n",
    "                        record_attention=False)\n",
    "print(evaluator.evaluate(val_iter))\n",
    "trainer = NMTTrainer([ld_encoder, ld_decoder], DE, EN, lrn_rate=0.5, \n",
    "                     lrn_decay='adaptive', attention=True,\n",
    "                     clip_norm=5, lrn_decay_force=2)\n",
    "trainer.train(train_iter, verbose=True, le=evaluator, val_iter=val_iter,\n",
    "              save_model_fn='attn_med_1b', init_parameters=False)"
   ]
  },
  {
   "cell_type": "code",
   "execution_count": null,
   "metadata": {},
   "outputs": [],
   "source": [
    "print(evaluator.evaluate(val_iter))\n",
    "print(evaluator.evaluate(test_iter))"
   ]
  },
  {
   "cell_type": "code",
   "execution_count": null,
   "metadata": {},
   "outputs": [],
   "source": [
    "# Load a saved model and produce predictions\n",
    "# save_checkpoint(bs_encoder, at_decoder, filename='saved_models/attn_big_0.epoch_10.ckpt.tar')\n",
    "ld_enc, ld_dec = load_checkpoint('saved_models/attn_med_5.epoch_10.ckpt.tar')\n",
    "ld_encoder = BaseEncoder(DE, hidden_size=650, num_layers=4, word_features=650, \n",
    "                         bidirectional=True, dropout=0.35)\n",
    "ld_decoder = AttnDecoder(EN, hidden_size=650, num_layers=4, word_features=650, dropout=0.35,\n",
    "                         tie_weights=False, enc_linear=650,\n",
    "                         enc_bidirectional=True)\n",
    "set_parameters(ld_encoder, ld_enc)\n",
    "set_parameters(ld_decoder, ld_dec)\n",
    "evaluator = NMTEvaluator([ld_encoder, ld_decoder], DE, EN, attention=True,\n",
    "                        record_attention=False)\n",
    "print(evaluator.evaluate(val_iter))\n",
    "print(evaluator.evaluate(test_iter)) # KEYYY\n",
    "evaluator.predict(pred_set, fn='predictions_big_2_100.txt',beam_size=100, ignore_eos=True)"
   ]
  },
  {
   "cell_type": "code",
   "execution_count": null,
   "metadata": {},
   "outputs": [],
   "source": [
    "# Visualize attn distribution\n",
    "attn_list = list(evaluator.attns_log[17][i][1] for i in range(4))\n",
    "evaluator.visualize_attn(*attn_list)"
   ]
  }
 ],
 "metadata": {
  "kernelspec": {
   "display_name": "Python 3",
   "language": "python",
   "name": "python3"
  },
  "language_info": {
   "codemirror_mode": {
    "name": "ipython",
    "version": 3
   },
   "file_extension": ".py",
   "mimetype": "text/x-python",
   "name": "python",
   "nbconvert_exporter": "python",
   "pygments_lexer": "ipython3",
   "version": "3.5.3"
  }
 },
 "nbformat": 4,
 "nbformat_minor": 2
}
