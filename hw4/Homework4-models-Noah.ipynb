{
 "cells": [
  {
   "cell_type": "code",
   "execution_count": 29,
   "metadata": {
    "collapsed": true
   },
   "outputs": [],
   "source": [
    "import torch\n",
    "import torch.nn as nn\n",
    "from torch.autograd import Variable as V\n",
    "import torch.nn.functional as F\n",
    "import torchvision.datasets as datasets\n",
    "import torchvision.transforms as transforms\n",
    "import torch.optim as optim\n",
    "\n",
    "# New stuff.\n",
    "from torch.distributions import Normal\n",
    "from torch.distributions.kl import kl_divergence\n",
    "DO_VAE=True"
   ]
  },
  {
   "cell_type": "code",
   "execution_count": 27,
   "metadata": {
    "collapsed": true
   },
   "outputs": [],
   "source": [
    "# setup\n",
    "train_dataset = datasets.MNIST(root='./data/',\n",
    "                            train=True, \n",
    "                            transform=transforms.ToTensor(),\n",
    "                            download=True)\n",
    "test_dataset = datasets.MNIST(root='./data/',\n",
    "                           train=False, \n",
    "                           transform=transforms.ToTensor())\n",
    "torch.manual_seed(3435)\n",
    "if DO_VAE:\n",
    "    train_img = torch.stack([torch.bernoulli(d[0]) for d in train_dataset])\n",
    "    test_img = torch.stack([torch.bernoulli(d[0]) for d in test_dataset])\n",
    "else:\n",
    "    train_img = torch.stack([d[0] for d in train_dataset])\n",
    "    test_img = torch.stack([d[1] for d in test_dataset])\n",
    "train_img = torch.squeeze(train_img)\n",
    "test_img = torch.squeeze(test_img)\n",
    "train_label = torch.LongTensor([d[1] for d in train_dataset])\n",
    "test_label = torch.LongTensor([d[1] for d in test_dataset])\n",
    "\n",
    "val_img = train_img[-10000:].clone()\n",
    "val_label = train_label[-10000:].clone()\n",
    "train_img = train_img[:-10000]\n",
    "train_label = train_label[:-10000]\n",
    "\n",
    "train = torch.utils.data.TensorDataset(train_img, train_label)\n",
    "val = torch.utils.data.TensorDataset(val_img, val_label)\n",
    "test = torch.utils.data.TensorDataset(test_img, test_label)\n",
    "BATCH_SIZE = 100\n",
    "train_loader = torch.utils.data.DataLoader(train, batch_size=BATCH_SIZE, shuffle=True)\n",
    "val_loader = torch.utils.data.DataLoader(val, batch_size=BATCH_SIZE, shuffle=True)\n",
    "test_loader = torch.utils.data.DataLoader(test, batch_size=BATCH_SIZE, shuffle=True)"
   ]
  },
  {
   "cell_type": "code",
   "execution_count": 25,
   "metadata": {},
   "outputs": [
    {
     "name": "stdout",
     "output_type": "stream",
     "text": [
      "torch.Size([100, 28, 28]) torch.Size([100])\n"
     ]
    }
   ],
   "source": [
    "encoder_mlp = MLPEncoder(hidden_dim=200, latent_dim=10)\n",
    "decoder_mlp = MLPDecoder(hidden_dim=200, latent_dim=10)\n",
    "vae = NormalVAE(encoder_mlp, decoder_mlp)\n",
    "models = [encoder_mlp, decoder_mlp, vae]\n",
    "lm_evaluator = LatentModelEvaluator(models)\n",
    "lm_trainer = LatentModelTrainer(models, lrn_rate=0.05, optimizer = optim.SGD)\n",
    "lm_trainer.train(train_loader, le=lm_evaluator, val_loader=val_loader,\n",
    "                nnum_epochs=10)"
   ]
  },
  {
   "cell_type": "code",
   "execution_count": 18,
   "metadata": {},
   "outputs": [
    {
     "name": "stdout",
     "output_type": "stream",
     "text": [
      "torch.Size([50000])\n",
      "torch.Size([1, 28, 28]) \n",
      " 5\n",
      "[torch.LongTensor of size ()]\n",
      "\n"
     ]
    }
   ],
   "source": [
    "print(train_label.size())\n",
    "for d in train_dataset:\n",
    "    print(d[0].size(), d[1])\n",
    "    break"
   ]
  },
  {
   "cell_type": "code",
   "execution_count": 26,
   "metadata": {},
   "outputs": [
    {
     "ename": "AttributeError",
     "evalue": "'DataLoader' object has no attribute 'init_epoch'",
     "output_type": "error",
     "traceback": [
      "\u001b[0;31m---------------------------------------------------------------------------\u001b[0m",
      "\u001b[0;31mAttributeError\u001b[0m                            Traceback (most recent call last)",
      "\u001b[0;32m<ipython-input-26-2b60abb291d7>\u001b[0m in \u001b[0;36m<module>\u001b[0;34m()\u001b[0m\n\u001b[0;32m----> 1\u001b[0;31m \u001b[0mtrain_loader\u001b[0m\u001b[0;34m.\u001b[0m\u001b[0minit_epoch\u001b[0m\u001b[0;34m(\u001b[0m\u001b[0;34m)\u001b[0m\u001b[0;34m\u001b[0m\u001b[0m\n\u001b[0m",
      "\u001b[0;31mAttributeError\u001b[0m: 'DataLoader' object has no attribute 'init_epoch'"
     ]
    }
   ],
   "source": [
    "train_loader.init_epoch()"
   ]
  },
  {
   "cell_type": "code",
   "execution_count": 28,
   "metadata": {},
   "outputs": [
    {
     "data": {
      "text/plain": [
       "500"
      ]
     },
     "execution_count": 28,
     "metadata": {},
     "output_type": "execute_result"
    }
   ],
   "source": [
    "len(train_loader)"
   ]
  },
  {
   "cell_type": "code",
   "execution_count": null,
   "metadata": {
    "collapsed": true
   },
   "outputs": [],
   "source": []
  }
 ],
 "metadata": {
  "kernelspec": {
   "display_name": "Python 3",
   "language": "python",
   "name": "python3"
  },
  "language_info": {
   "codemirror_mode": {
    "name": "ipython",
    "version": 3
   },
   "file_extension": ".py",
   "mimetype": "text/x-python",
   "name": "python",
   "nbconvert_exporter": "python",
   "pygments_lexer": "ipython3",
   "version": "3.5.3"
  }
 },
 "nbformat": 4,
 "nbformat_minor": 2
}
