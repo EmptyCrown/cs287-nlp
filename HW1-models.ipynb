{
 "cells": [
  {
   "cell_type": "code",
   "execution_count": 1,
   "metadata": {},
   "outputs": [],
   "source": [
    "import torchtext\n",
    "from torchtext.vocab import Vectors, GloVe\n",
    "import torch\n",
    "import torch.autograd as autograd\n",
    "import torch.nn as nn\n",
    "import torch.nn.functional as F\n",
    "import torch.optim as optim\n",
    "import numpy as np\n",
    "from hw1.models import *\n",
    "from hw1.evaluation import *"
   ]
  },
  {
   "cell_type": "code",
   "execution_count": 2,
   "metadata": {
    "collapsed": true
   },
   "outputs": [],
   "source": [
    "# Our input $x$\n",
    "TEXT = torchtext.data.Field()\n",
    "    \n",
    "# Our labels $y$\n",
    "LABEL = torchtext.data.Field(sequential=False)\n",
    "\n",
    "\n",
    "train, val, test = torchtext.datasets.SST.splits(\n",
    "    TEXT, LABEL,\n",
    "    filter_pred=lambda ex: ex.label != 'neutral')\n",
    "\n",
    "# Build vocab\n",
    "TEXT.build_vocab(train)\n",
    "LABEL.build_vocab(train)\n",
    "\n",
    "train_iter, val_iter, test_iter = torchtext.data.BucketIterator.splits(\n",
    "(train, val, test), batch_size=10, device=-1)\n",
    "\n",
    "# Build the vocabulary with word embeddings\n",
    "url = 'https://s3-us-west-1.amazonaws.com/fasttext-vectors/wiki.simple.vec'\n",
    "TEXT.vocab.load_vectors(vectors=Vectors('wiki.simple.vec', url=url))"
   ]
  },
  {
   "cell_type": "code",
   "execution_count": 4,
   "metadata": {},
   "outputs": [
    {
     "name": "stdout",
     "output_type": "stream",
     "text": [
      "Pre-training: 748 of 1821 correct\n",
      "Iteration 0, loss: 1.064087\n",
      "Iteration 10, loss: 15.669604\n",
      "Iteration 20, loss: 1.454635\n",
      "Iteration 30, loss: 1.800614\n",
      "Iteration 40, loss: 1.811376\n",
      "Iteration 50, loss: 0.794657\n",
      "Iteration 60, loss: 0.920348\n",
      "Iteration 70, loss: 0.765425\n",
      "Iteration 80, loss: 2.725664\n",
      "Iteration 90, loss: 1.217239\n",
      "Post-training: 1005 of 1821 correct\n"
     ]
    }
   ],
   "source": [
    "model = CBOW(TEXT, LABEL)\n",
    "(cnt_correct, cnt_total) = model_eval(model, test)\n",
    "print('Pre-training: %d of %d correct' % (cnt_correct, cnt_total))\n",
    "# print(model.embeddings.weight[:10,:10])\n",
    "trainer = TextTrainer(TEXT, LABEL, model)\n",
    "trainer.train(train_iter, num_iter=100, skip_iter=10)\n",
    "(cnt_correct, cnt_total) = model_eval(model, test)\n",
    "print('Post-training: %d of %d correct' % (cnt_correct, cnt_total))\n",
    "# print(model.embeddings.weight[:10,:10])"
   ]
  },
  {
   "cell_type": "code",
   "execution_count": 16,
   "metadata": {},
   "outputs": [
    {
     "name": "stdout",
     "output_type": "stream",
     "text": [
      "0\n"
     ]
    }
   ],
   "source": [
    "test_iter = torchtext.data.BucketIterator(train, train=False, batch_size=11,\n",
    "                                              device=-1)\n",
    "cnt = 0\n",
    "for batch in test_iter:\n",
    "    cnt += (batch.label == 0).sum().data[0]\n",
    "print(cnt)"
   ]
  },
  {
   "cell_type": "code",
   "execution_count": 5,
   "metadata": {
    "collapsed": true
   },
   "outputs": [],
   "source": []
  },
  {
   "cell_type": "code",
   "execution_count": null,
   "metadata": {
    "collapsed": true
   },
   "outputs": [],
   "source": []
  }
 ],
 "metadata": {
  "kernelspec": {
   "display_name": "Python 3",
   "language": "python",
   "name": "python3"
  },
  "language_info": {
   "codemirror_mode": {
    "name": "ipython",
    "version": 3
   },
   "file_extension": ".py",
   "mimetype": "text/x-python",
   "name": "python",
   "nbconvert_exporter": "python",
   "pygments_lexer": "ipython3",
   "version": "3.5.3"
  }
 },
 "nbformat": 4,
 "nbformat_minor": 2
}
